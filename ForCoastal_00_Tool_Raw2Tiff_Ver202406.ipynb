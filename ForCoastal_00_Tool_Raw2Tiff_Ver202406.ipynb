{
 "cells": [
  {
   "cell_type": "code",
   "execution_count": 21,
   "metadata": {},
   "outputs": [],
   "source": [
    "# Python 3.8 version\n",
    "import rawpy\n",
    "import glob\n",
    "import os\n",
    "import numpy as np\n",
    "import tifffile as tif\n",
    "import time\n",
    "from tqdm import tqdm"
   ]
  },
  {
   "cell_type": "markdown",
   "id": "81de58db",
   "metadata": {},
   "source": [
    "# Initial setting"
   ]
  },
  {
   "cell_type": "code",
   "execution_count": 22,
   "metadata": {
    "tags": []
   },
   "outputs": [],
   "source": [
    "# Observation scene\n",
    "SceneID = \"Kotogahama-20231228-1153-P1\"\n",
    "\n",
    "# I/O Path\n",
    "Dir1   = \"I_InputFiles/\"\n",
    "Dir2   = \"I_Raw/\"\n",
    "Dir3   = \"O_Tiff/\"\n",
    "\n",
    "# Input files\n",
    "IFile1 = Dir1 + SceneID+ \"_ListImages.csv\"         # List of raw images\n",
    "IFile2 = Dir1 + \"P1-FlatCofficient.npz\"            # Lens Shading Cofficient\n",
    "\n",
    "# All original image processing\n",
    "PhotoIDs = []\n",
    "with open(IFile1, \"r\", encoding=\"utf-8\") as f:\n",
    "    Photolist = f.readlines()\n",
    "for i in Photolist:\n",
    "    PhotoIDs.append(i.rstrip())\n",
    "\n",
    "# Input lens shading correction coefficients\n",
    "FlatCo_npz     = np.load(IFile2)\n",
    "FlatCofficient = FlatCo_npz[\"arr_0\"]"
   ]
  },
  {
   "cell_type": "markdown",
   "metadata": {},
   "source": [
    "# Class to save in Tiff format"
   ]
  },
  {
   "cell_type": "code",
   "execution_count": 23,
   "metadata": {},
   "outputs": [],
   "source": [
    "class ImageParameterEach:\n",
    "    def __init__(self, photo):\n",
    "        self.raw_original = rawpy.imread(Dir2+photo+\".DNG\")\n",
    "        self.OFile1       = Dir3 + photo + \".tif\"\n",
    "        # Debayering\n",
    "        self.RGR_original = self.raw_original.postprocess(\n",
    "                        demosaic_algorithm = rawpy.DemosaicAlgorithm.LINEAR,\n",
    "                        output_color       = rawpy.ColorSpace.raw,\n",
    "                        user_wb            = [2.546875, 1.0, 1.83203125, 0.0],\n",
    "                        output_bps         = 16,\n",
    "                        no_auto_scale      = False,\n",
    "                        gamma              = [1,0]\n",
    "                        )\n",
    "        # Lens Shading\n",
    "        self.CorrectedImage1 = np.round(self.RGR_original / FlatCofficient)\n",
    "        self.CorrectedImage2 = np.where(self.CorrectedImage1 > 65535, 65535, self.CorrectedImage1).astype(np.uint16)"
   ]
  },
  {
   "cell_type": "markdown",
   "id": "141e40bf",
   "metadata": {},
   "source": [
    "# Debayer, Correction and Save"
   ]
  },
  {
   "cell_type": "code",
   "execution_count": 24,
   "metadata": {},
   "outputs": [
    {
     "name": "stderr",
     "output_type": "stream",
     "text": [
      "100%|██████████| 1/1 [00:04<00:00,  4.46s/it]\n"
     ]
    }
   ],
   "source": [
    "for i in tqdm(PhotoIDs):\n",
    "    photo = ImageParameterEach(i)\n",
    "    tif.imwrite(photo.OFile1, photo.CorrectedImage2.astype('uint16'))"
   ]
  }
 ],
 "metadata": {
  "kernelspec": {
   "display_name": "Python 3",
   "language": "python",
   "name": "python3"
  },
  "language_info": {
   "codemirror_mode": {
    "name": "ipython",
    "version": 3
   },
   "file_extension": ".py",
   "mimetype": "text/x-python",
   "name": "python",
   "nbconvert_exporter": "python",
   "pygments_lexer": "ipython3",
   "version": "3.8.17"
  }
 },
 "nbformat": 4,
 "nbformat_minor": 5
}
