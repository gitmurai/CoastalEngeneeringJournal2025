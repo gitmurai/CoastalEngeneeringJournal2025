{
 "cells": [
  {
   "cell_type": "code",
   "execution_count": 8,
   "metadata": {},
   "outputs": [],
   "source": [
    "# For Raw Image Python3.8\n",
    "import rawpy\n",
    "#import rawpy.enhance\n",
    "import glob\n",
    "import os\n",
    "import numpy as np\n",
    "import tifffile as tif\n",
    "\n",
    "# 進捗の確認に使用\n",
    "import time\n",
    "from tqdm import tqdm"
   ]
  },
  {
   "cell_type": "code",
   "execution_count": 9,
   "metadata": {
    "tags": []
   },
   "outputs": [],
   "source": [
    "# ============================================================================\n",
    "# 対象観測シーンIDとデータディレクトリ\n",
    "SceneID = \"Kotogahama-20240327-1302-P1\"\n",
    "LensSID = \"P1-20241224-lensShadingImages\"\n",
    "\n",
    "# 入出力ファイルへパスを通す\n",
    "Win  = \"/mnt/i/\"\n",
    "Mac  = \"/Volumes/RM1/\"\n",
    "Lin  = \"/media/kut/RM1/\"\n",
    "OSd  = Lin\n",
    "Dir1 = OSd  + \"003_RESEARCH-河川計測_4_BRF/\" +SceneID+ \"/\"\n",
    "Dir2 = Dir1 + \"O_IntermediateData/\"\n",
    "Dir3 = Dir1 + \"I_Raw/\"\n",
    "Dir4 = Dir1 + \"O_Tif/\"\n",
    "Dir9 = OSd  + \"003_RESEARCH-河川計測_4_BRF/\" +LensSID+ \"/\"\n",
    "\n",
    "\n",
    "# 入力ファイル\n",
    "IFile1 = Dir1 +SceneID+ \"_ListImages.csv\"         # 入力ファイル１：原画像のリスト\n",
    "IFile2 = Dir9 +\"P1-FlatCofficient.npz\"             # 入力ファイル２：Lens Shading Cofficient\n",
    "\n",
    "# 原画像全部処理したいときはこれ\n",
    "PhotoIDs = []\n",
    "with open(IFile1, \"r\", encoding=\"utf-8\") as f: # 画像データを読み込み\n",
    "    Photolist = f.readlines()\n",
    "for i in Photolist:\n",
    "    PhotoIDs.append(i.rstrip())\n",
    "\n",
    "# レンズシェーディング補正係数の読み込み\n",
    "FlatCo_npz     = np.load(IFile2)\n",
    "FlatCofficient = FlatCo_npz[\"arr_0\"]"
   ]
  },
  {
   "cell_type": "code",
   "execution_count": 10,
   "id": "645e16a4",
   "metadata": {},
   "outputs": [
    {
     "data": {
      "text/plain": [
       "0.3010820247676237"
      ]
     },
     "execution_count": 10,
     "metadata": {},
     "output_type": "execute_result"
    }
   ],
   "source": [
    "np.min(FlatCofficient)"
   ]
  },
  {
   "cell_type": "markdown",
   "metadata": {},
   "source": [
    "# Tiff 形式で保存する"
   ]
  },
  {
   "cell_type": "code",
   "execution_count": 11,
   "metadata": {},
   "outputs": [],
   "source": [
    "# クラスメソッド：イメージ毎のカメラ情報など      \n",
    "class ImageParameterEach: # 変数はPhotoIDに紐ずいたカメラデータから自動で読み取られる\n",
    "    def __init__(self, photo):\n",
    "        \n",
    "        self.OFile1 = Dir4 + photo + \".tif\"\n",
    "        \n",
    "        self.raw_original = rawpy.imread(Dir3+photo+\".DNG\")\n",
    "\n",
    "        # ディベイヤ処理する\n",
    "        self.RGR_original = self.raw_original.postprocess(\n",
    "                        demosaic_algorithm = rawpy.DemosaicAlgorithm.LINEAR,  # ここで処理方法を指定\n",
    "                        output_color       = rawpy.ColorSpace.raw,            # rawは無変換\n",
    "                        no_auto_bright     = True,                            # 自動明るさ補正をキャンセル\n",
    "                        use_camera_wb      = False,                           # カメラが記録したホワイトバランスを使用\n",
    "                        user_wb            = [2.546875, 1.0, 1.83203125, 0.0],# Measurement using Light box\n",
    "                        output_bps         = 16,                              # 16bitにする\n",
    "                        no_auto_scale      = False,                           # 16bitに正規化する\n",
    "                        gamma              = [1,0]\n",
    "                        )\n",
    "        self.CorrectedImage1 = np.round(self.RGR_original / FlatCofficient)\n",
    "        self.CorrectedImage2 = np.where(self.CorrectedImage1 > 65535, 65535, self.CorrectedImage1).astype(np.uint16)"
   ]
  },
  {
   "cell_type": "code",
   "execution_count": 12,
   "metadata": {},
   "outputs": [
    {
     "name": "stderr",
     "output_type": "stream",
     "text": [
      "100%|██████████| 36/36 [02:25<00:00,  4.04s/it]\n"
     ]
    }
   ],
   "source": [
    "# RAWPYによるTIFF保存\n",
    "for i in tqdm(PhotoIDs):\n",
    "    photo = ImageParameterEach(i)\n",
    "    tif.imwrite(photo.OFile1, photo.CorrectedImage2.astype('uint16'))"
   ]
  },
  {
   "cell_type": "markdown",
   "id": "2be22bcf",
   "metadata": {},
   "source": [
    "print(np.min(photo.RGR_original))\n",
    "FlatCofficient[:,:,0]"
   ]
  },
  {
   "cell_type": "markdown",
   "metadata": {},
   "source": [
    "# Line に通知\n",
    "import Tool_LineNotify\n",
    "Tool_LineNotify.LineNotify(SceneID + \"\\n\"+ \"Finished Raw2Tif\")"
   ]
  }
 ],
 "metadata": {
  "kernelspec": {
   "display_name": "Python 3",
   "language": "python",
   "name": "python3"
  },
  "language_info": {
   "codemirror_mode": {
    "name": "ipython",
    "version": 3
   },
   "file_extension": ".py",
   "mimetype": "text/x-python",
   "name": "python",
   "nbconvert_exporter": "python",
   "pygments_lexer": "ipython3",
   "version": "3.8.18"
  }
 },
 "nbformat": 4,
 "nbformat_minor": 5
}
