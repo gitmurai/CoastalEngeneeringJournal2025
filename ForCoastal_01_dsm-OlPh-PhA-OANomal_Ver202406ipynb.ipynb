{
 "cells": [
  {
   "cell_type": "markdown",
   "metadata": {},
   "source": [
    "# Make OlthoPhoto and PhaseAngleImage"
   ]
  },
  {
   "cell_type": "code",
   "execution_count": 21,
   "metadata": {},
   "outputs": [],
   "source": [
    "import csv\n",
    "import cv2\n",
    "import math\n",
    "import tifffile\n",
    "import pandas as pd\n",
    "import numpy as np\n",
    "from numpy import loadtxt\n",
    "import xml.etree.ElementTree as ET # XMLファイル用\n",
    "from osgeo import gdal\n",
    "from osgeo import gdal_array\n",
    "from osgeo import osr\n",
    "import colorsys\n",
    "\n",
    "# 処理時間計測\n",
    "import time\n",
    "from tqdm import tqdm\n",
    "\n",
    "# 並列処理\n",
    "import os\n",
    "import concurrent.futures as confu\n",
    "\n",
    "# 太陽\n",
    "import ephem   \n",
    "import pyproj\n",
    "from pyproj import Transformer\n",
    "\n",
    "# 画像から時刻取得\n",
    "import piexif\n",
    "import re\n",
    "#from PIL import Image\n",
    "#from PIL.ExifTags import TAGS\n",
    "#import PIL.Image\n",
    "\n",
    "# 画像を表示するためのライブラリ ######################\n",
    "from IPython.display import Image, display_png\n",
    "import matplotlib.pyplot as plt\n",
    "from PIL import Image\n",
    "\n",
    "# Jupyterでインライン表示するための宣言\n",
    "%matplotlib inline"
   ]
  },
  {
   "cell_type": "markdown",
   "metadata": {},
   "source": [
    "## 初期設定パラメータ ４ グループ"
   ]
  },
  {
   "cell_type": "code",
   "execution_count": 22,
   "metadata": {},
   "outputs": [
    {
     "name": "stdout",
     "output_type": "stream",
     "text": [
      "原画像DNの取得範囲： 31 × 31\n",
      "オルソ画像の分解能： 0.05 m\n",
      "画像枚数: 148 ,   DSM縦: 1380 ,   DSM 1180\n"
     ]
    }
   ],
   "source": [
    "################################################################\n",
    "###############   1/4 手入力が必要な初期設定　 #################\n",
    "################################################################\n",
    "# 対象観測シーンIDとデータディレクトリは？\n",
    "SceneID = \"Kotogahama-20231228-1153-P1\"  #Toitajima-20231013-1126-P2\n",
    "                                         #Kotogahama-20231218-1109-P1\n",
    "                                         #Kotogahama-20231228-1153-P1\n",
    "                                         #Kotogahama-20240327-1302-P1\n",
    "CameraName = \"P1\"\n",
    "\n",
    "# 原画像の近傍平均処理範囲は？\n",
    "a         = 15      # a*2+1 が平均される縦横の範囲\n",
    "PixelArea = a*2+1   ## 戸板島、GSD=0.50cm\n",
    "                    ## 琴ヶ浜 ##\n",
    "                    #1. 11:09 高度100mで、堤防から汀線までを撮影 GSD=1.26cm  OL 80% , SL 80&\n",
    "                    #2. 11:36 高度12mで、ROIを撮影 GSD=0.12cm  OL 90% , SL80%\n",
    "                    #3. 11:53 高度40mで、ROIを撮影 GSD=0.50cm  OL 90% , SL90%\n",
    "                        #0.05m:a=4, 0.1m:a=9, 0.2m:a=19, 0.5m:a=49, 1.0m:a=99\n",
    "                    #4. 12:04 高度12mで、ROIを撮影 GSD=0.12cm  OL 90% , SL80%\n",
    "                        # 0.05m:a=19, 0.1m =40, 0.2m:a=82, 0.5m:a=2\n",
    "\n",
    "                    # Kotogahama 5=a2, 7=a3,9=a4,11=a5,13=a6,15=a7,17=a8,19=a9,21=a10,23=a11,25=a12,27=a13,29=a14\n",
    "                    # Kotogahama 31=a16, \n",
    "\n",
    "# イメージ拡張子は？\n",
    "ImageExtension = \"tif\"\n",
    "\n",
    "# ====================== 対象エリアの設定 ==========================\n",
    "# 戸板島\n",
    "#xmin,xmax,ymin,ymax,zmin,zmax = 18186, 18274, 65805, 65895, 55,64\n",
    "# 琴ヶ浜 #1153-P1\n",
    "xmin,xmax,ymin,ymax,zmin,zmax = 26251,26320 , 57320,57379 , 30,40 #Kotogahama-20231228-1153-P1\n",
    "# 琴ヶ浜 #1204-P2\n",
    "#xmin,xmax,ymin,ymax,zmin,zmax = 26265,26310 , 57325,57372 , 34,37 #Kotogahama-20231228-1204-P2\n",
    "# 琴ヶ浜 20240327-1302-P1\n",
    "#xmin,xmax,ymin,ymax,zmin,zmax = 27345,27490 , 57297,57397 , 25,36 #Kotogahama-20240327-1302\n",
    "\n",
    "# 点群の間隔(単位:m)\n",
    "Interval   =  0.05 #0.05 #0.1 #0.2 #0.5 #1.0  \n",
    "IntervalID = \"005-0\"+ str(PixelArea) #005  #010 #020 #050 #100\n",
    "\n",
    "# 投影面の2次元配列生成\n",
    "xsize = int(round((xmax-xmin)/Interval))\n",
    "ysize = int(round((ymax-ymin)/Interval))\n",
    "\n",
    "print(\"原画像DNの取得範囲：\",(PixelArea),\"×\",(PixelArea))\n",
    "print(\"オルソ画像の分解能：\",Interval,\"m\")\n",
    "\n",
    "\n",
    "################################################################\n",
    "################  2/4 使用するデータのパス設定  ################\n",
    "################################################################\n",
    "# 入出力デバイス選択\n",
    "Win  = \"/mnt/i/\"\n",
    "Mac  = \"/Volumes/RM1/\"\n",
    "Lin  = \"/media/kut/RM1/\"\n",
    "OSd  = Lin\n",
    "\n",
    "# ディレクトリのパス設定\n",
    "Dir1 = OSd  + \"003_RESEARCH-河川計測_4_BRF/\" +SceneID+ \"/\"\n",
    "Dir2 = Dir1 + \"O_IntermediateData_\" + str(IntervalID)+ \"/\"\n",
    "Dir3 = Dir1 + \"O_Tif/\"\n",
    "Dir4 = Dir1 + \"O_OlthoPhoto/\"\n",
    "Dir5 = Dir1 + \"O_ThetaImage/\"\n",
    "Dir6 = Dir1 + \"O_ObservationAngleImage/\"\n",
    "Dir9 = Dir1 + \"I_Raw/\"\n",
    "\n",
    "# 入力ファイルのパス設定\n",
    "IFile1 = Dir1 +SceneID+ \"_CameraOmegaPhiKappa.txt\"  # 入力１：カメラデータ\n",
    "IFile2 = Dir1 +SceneID+ \"_CameraXML.xml\"\n",
    "IFile3 = Dir2 +SceneID+ \"_DSMtliming.csv\"           # 入力２：投影面になるDSMデータ（DSM）\n",
    "IFile4 = Dir1 +SceneID+ \"_ListImages.csv\"           # 入力３：原画像のリスト\n",
    "IFile5 = Dir1 +SceneID+ \"_ListImages-INSIDE.csv\"    # 入力４：原画像のリスト（範囲内）\n",
    "#File6 = Dir2 +SceneID+ \"_ShadowTliming.tif\"        # 入力５：日向日陰シミュレーション\n",
    "\n",
    "# IFile5を作成（IFile4をオリジナルとして残すため）\n",
    "df = pd.read_csv(IFile4, header=None, encoding='utf8')  # CSVファイルを読み込み\n",
    "df.to_csv(IFile5, index=False, header=False)           # CSVファイルに保存\n",
    "\n",
    "\n",
    "##################################################################\n",
    "##############  3/4 カメラデータ・原画像・投影面の読込　##########\n",
    "##################################################################\n",
    "\n",
    "# IF:カメラデータの読み込み\n",
    "camera_data_pd = pd.read_csv(IFile1, skiprows=2, sep='\\t', names=(\"#PhotoID\",\"X\",\"Y\",\"Z\",\"Omega\",\"Phi\",\"Kappa\",\"r11\",\"r12\",\"r13\",\"r21\",\"r22\",\"r23\",\"r31\",\"r32\",\"r33\"))\n",
    "\n",
    "# IF:投影面となるDSM（点群）読み込み(Pandasを利用。Numpyの場合は1行で書けるけど、今は取り回しを鑑みてPandasにしている)\n",
    "P_pd1 = pd.read_csv(IFile3, skiprows=1, names=(\"x\",\"y\",\"z\",\"r\",\"g\",\"b\",\"n\",\"i\",\"j\",\"k\"))\n",
    "P_pd2 = P_pd1.drop([\"r\",\"g\",\"b\",\"n\"],axis=1)\n",
    "P_np  = P_pd2.values\n",
    "\n",
    "# 原画像全部処理\n",
    "PhotoIDs = []\n",
    "with open(IFile4, \"r\", encoding=\"utf-8-sig\") as f: # 画像データを読み込み\n",
    "    Photolist = f.readlines()\n",
    "for i in Photolist:\n",
    "    PhotoIDs.append(i.rstrip())\n",
    "\n",
    "\n",
    "#################################################################\n",
    "###############  4/4 プログラムテスト用の設定項目　##############\n",
    "#################################################################\n",
    "\n",
    "# １枚だけ試したい時は原画像データを指定\n",
    "# PhotoIDs = [\"DJI_20231013112640_0045\"]\n",
    "# PhotoIDs = [\"DJI_0283\"]\n",
    "\n",
    "print(\"画像枚数:\",len(PhotoIDs),\",  \",\"DSM縦:\",xsize,\",  \",\"DSM\",ysize,)"
   ]
  },
  {
   "cell_type": "markdown",
   "metadata": {},
   "source": [
    "## Class & Function"
   ]
  },
  {
   "cell_type": "markdown",
   "metadata": {},
   "source": [
    "### センサClassの作成"
   ]
  },
  {
   "cell_type": "code",
   "execution_count": 23,
   "metadata": {},
   "outputs": [],
   "source": [
    "# カメライメージセンサの設定\n",
    "class SensorParameter: # 手入力で変数を定義する\n",
    "    def __init__(self,Sensor):\n",
    "        # 撮影画像\n",
    "        self.SensorID = Sensor\n",
    "\n",
    "        # カメラ位置姿勢情報の取得\n",
    "        XML = ET.parse(IFile2)     # XMLファイルの読み込み\n",
    "        xml = XML.getroot()\n",
    "        \n",
    "        pixel_size        = [str(part.get('value')) for part in xml.iter('property')]\n",
    "        self.pixel_size   = float(pixel_size[0]) / 1000                  # １画素の物理的な大きさ(単位:m)\n",
    "        \n",
    "        cx                = [str(part.text) for part in xml.iter('cx')]\n",
    "        cy                = [str(part.text) for part in xml.iter('cy')]\n",
    "        self.cX, self.cY  = float(cx[0]), float(cy[0])                   # ピクセル座標系 における主点\n",
    "        \n",
    "        i_rX              = [str(part.get('width')) for part in xml.iter('resolution')]\n",
    "        i_rY              = [str(part.get('height')) for part in xml.iter('resolution')]\n",
    "        self.i_rX         = int(i_rX[0])\n",
    "        self.i_rY         = int(i_rY[0])\n",
    "        \n",
    "        self.sensor_sizeX = self.pixel_size * self.i_rX\n",
    "        self.sensor_sizeY = self.pixel_size * self.i_rY\n",
    "        \n",
    "        self.focalLength  = [str(part.text) for part in xml.iter('f')] \n",
    "        self.focal_length = float(self.focalLength[0]) * self.pixel_size\n",
    "        self.iFov         = math.sqrt((self.sensor_sizeX*self.sensor_sizeY)/(self.i_rX*self.i_rY))/self.focal_length*1000\n",
    "        \n",
    "        # オクルージョンで使用するZの配列作成\n",
    "        self.VoxelK = np.zeros((ysize, xsize)).astype(int)\n",
    "        for p in P_np:\n",
    "            i, j, k = int(p[3]),int(p[4]),int(p[5])\n",
    "            self.VoxelK[j,i] = k\n",
    "\n",
    "        self.xstart, self.ystart = 0, 0\n",
    "        self.xstop,  self.ystop  = xsize-1, ysize-1\n",
    "\n",
    "    def printInfo(self):\n",
    "        print(\"\\n\",\"[ Sensor Info\",\"]\")\n",
    "        print(\"Sensor Nmae:\",self.SensorID, \"  Pixel Width:\",self.i_rX, \"  Pixel Hight:\",self.i_rY)\n",
    "        print(\"Pixel Size:\",'{:.13f}'.format(self.pixel_size), end=\" \")\n",
    "        print(\"Cx:\",'{:.5f}'.format(self.cX),\" Cy:\",'{:.5f}'.format(self.cY))\n",
    "        print(\"Sensor SizeX(m)\",'{:.5f}'.format(self.sensor_sizeX), \"  Sensor SizeY(m)\",'{:.5f}'.format(self.sensor_sizeY))\n",
    "        print(\"Focal Length:\",'{:.5f}'.format(float(self.focalLength[0])), \" Camera iFOV:\",'{:.3f}'.format(self.iFov))"
   ]
  },
  {
   "cell_type": "markdown",
   "metadata": {},
   "source": [
    "### 原画像Classの作成"
   ]
  },
  {
   "cell_type": "code",
   "execution_count": 24,
   "metadata": {},
   "outputs": [],
   "source": [
    "# 原画像とカメラ位置姿勢情報\n",
    "class CameraParameterEach: # 手入力で変数を定義する\n",
    "    def __init__(self, photoID):\n",
    "\n",
    "         # 撮影画像\n",
    "        self.photoID = photoID\n",
    "        \n",
    "        # 入力ファイル\n",
    "        self.IFile1 = Dir3 + photoID + \".\" + ImageExtension                   # 入力2 - 原画像\n",
    "        self.IFile2 = Dir9 + photoID + \".DNG\"\n",
    "\n",
    "        # 出力ファイル\n",
    "        self.OFile1 = Dir4 + \"VI-\"       +photoID+ \"-\" +str(IntervalID)+ \"-\" +str(PixelArea)+ \".tif\"  # 出力1 - オルソ画像\n",
    "        self.OFile2 = Dir5 + \"PA-\"       +photoID+ \"-\" +str(IntervalID)+ \"-\" +str(PixelArea)+ \".tif\"  # 出力2 - 位相角画像\n",
    "        self.OFile3 = Dir6 + \"OA-HSV-\"   +photoID+ \"-\" +str(IntervalID)+ \"-\" +str(PixelArea)+ \".tif\"  # 出力3 - 観測角HSV\n",
    "        self.OFile4 = Dir6 + \"OA-RGB-\"   +photoID+ \"-\" +str(IntervalID)+ \"-\" +str(PixelArea)+ \".tif\"  # 出力4 - 観測角RGB\n",
    "        self.OFile5 = Dir6 + \"OA-Normal\" +photoID+ \"-\" +str(IntervalID)+ \"-\" +str(PixelArea)+ \".tif\"  # 出力5 - 観測角Normal\n",
    "\n",
    "\n",
    "        # 原画像の読み込\n",
    "        #img      = cv2.imread(self.IFile1) # 読み込み\n",
    "        #self.img = cv2.cvtColor(img, cv2.COLOR_BGR2RGB)       # RGBの順番入れ替え\n",
    "        self.img  = tifffile.imread(self.IFile1)\n",
    "        self.img_R,self.img_G,self.img_B = np.array(self.img[:,:,0]), np.array(self.img[:,:,1]), np.array(self.img[:,:,2])\n",
    "        self.h, self.w, band             = self.img.shape\n",
    "\n",
    "        # カメラデータの取得準備（OPK）\n",
    "        self.num = camera_data_pd.loc[camera_data_pd['#PhotoID'] == photoID].index[0] # カメラの行番号を取得\n",
    "\n",
    "        # カメラの姿勢情報\n",
    "        self.x  = camera_data_pd[\"X\"][self.num]\n",
    "        self.y  = camera_data_pd[\"Y\"][self.num]\n",
    "        self.z  = camera_data_pd[\"Z\"][self.num]\n",
    "        self.Ci = round(((self.x-xmin)/Interval),0).astype(int)\n",
    "        self.Cj = round(((ymax-self.y)/Interval),0).astype(int)\n",
    "        self.Ck = round(((self.z-zmin)/Interval),0).astype(int)\n",
    "        O       = camera_data_pd[\"Omega\"][self.num]\n",
    "        P       = camera_data_pd[\"Phi\"][self.num]\n",
    "        K       = camera_data_pd[\"Kappa\"][self.num]\n",
    "        \n",
    "        # 度数から弧度\n",
    "        rad_O = math.radians(float(O))\n",
    "        rad_P = math.radians(float(P))\n",
    "        rad_K = math.radians(float(K))\n",
    "\n",
    "        # 三角関数の計算\n",
    "        sin_O = math.sin(-float(rad_O))\n",
    "        cos_O = math.cos(-float(rad_O))\n",
    "        sin_P = math.sin(-float(rad_P))\n",
    "        cos_P = math.cos(-float(rad_P))\n",
    "        sin_K = math.sin(-float(rad_K))\n",
    "        cos_K = math.cos(-float(rad_K))\n",
    "        \n",
    "        # 共線条件式（途中まで）\n",
    "        arr2      = np.array([[cos_K,-sin_K,0], [sin_K,cos_K,0], [0,0,1]])  # kappa\n",
    "        arr3      = np.array([[cos_P,0,sin_P], [0,1,0], [-sin_P,0,cos_P]])  # phi\n",
    "        arr4      = np.array([[1,0,0], [0,cos_O,-sin_O], [0,sin_O,cos_O]])  # omega\n",
    "        arr5      = np.dot(arr2, arr3)\n",
    "        self.arr6 = np.dot(arr5, arr4)\n",
    "                \n",
    "        # 撮影している範囲の計算（対地高度情報を入力）\n",
    "        self.grand_reso   = siFov * (self.z - 135.00)   # 対象面の高さを135mと仮定した\n",
    "        self.areaW, self.areaH = self.grand_reso * si_rX / 1000, self.grand_reso * si_rY / 1000\n",
    "        self.iXmin, self.iXmax = self.x - (self.areaW/2), self.x + (self.areaW/2)\n",
    "        self.iYmin, self.iYmax = self.y - (self.areaH/2), self.y + (self.areaH/2)\n",
    "\n",
    "        ###################################\n",
    "        #############  位相角  #############\n",
    "        ###################################\n",
    "        # 座標系の設定(新しいプログラムに変更,2024/01)\n",
    "        #p1 = pyproj.Proj(\"EPSG:2446\")  # 変換元の座標：日本測地系4系\n",
    "        #p2 = pyproj.Proj(\"EPSG:4326\")  # 変換後の座標系：緯度経度\n",
    "        transformer  = Transformer.from_crs(\"EPSG:2446\", \"EPSG:4326\")\n",
    "\n",
    "        # 撮影時刻の取得\n",
    "        Date = self.PhotoTakenTime(self.IFile2)\n",
    "        self.Date = Date # 無くてもいい\n",
    "        \n",
    "        # [[注意]]：カメラ位置における太陽をシミュレーションする（self.xとyはcxとcy / 投影面の方が精度がいいかも）\n",
    "        Lat, lon             = transformer.transform(self.x, self.y)\n",
    "        Lat_str, Lon_str     = str(Lat), str(lon)\n",
    "        kochi                = ephem.Observer()\n",
    "        kochi.lat, kochi.lon = Lat_str, Lon_str\n",
    "        kochi.date           = Date\n",
    "        kochi.date          -= ephem.hour * 9\n",
    "        lt                   = ephem.localtime(kochi.date)\n",
    "        sun                  = ephem.Sun(kochi)\n",
    "        sun.compute(kochi)\n",
    "        rhl                  = sun.hlon - ephem.degrees('180:00:00')\n",
    "        dhl                  = ephem.degrees(rhl).norm\n",
    "\n",
    "        # 太陽方位・高度を10進数に変換\n",
    "        sun_alt     = float(str(sun.alt).split(':')[0]) + float(str(sun.alt).split(':')[1]) / 60+float(str(sun.alt).split(':')[2]) / 3600 #太陽高度\n",
    "        sun_az      = float(str(sun.az).split(':')[0])  + float(str(sun.az).split(':')[1])  / 60+float(str(sun.az).split(':')[2])  / 3600 #太陽方位角\n",
    "        #rad_sun_alt = math.radians(sun_alt)\n",
    "        #rad_sun_azi = math.radians(sun_az)\n",
    "        self.sunalt = sun_alt\n",
    "        self.sunazl = sun_az\n",
    "\n",
    "        # 光源両方まとめて計算させる      \n",
    "        # 光源：入射光方向の計算（ここ重要）※※※※※※※※※※※※※※※※※※※※※※※※※※※※※\n",
    "        #rad_Incident_azPlus = math.radians(sun_az)  # 入射光方位\n",
    "        # 光源：入射光方向の単位ベクトル\n",
    "        #self.sun_xI         = math.sin(rad_Incident_azPlus) * math.cos(rad_sun_alt)\n",
    "        #self.sun_yI         = math.cos(rad_Incident_azPlus) * math.cos(rad_sun_alt)\n",
    "        #self.sun_zI         = math.sin(rad_sun_alt)\n",
    "        #self.sun_vectorI    = math.sqrt((self.sun_xI**2)+(self.sun_yI**2)+(self.sun_zI**2)) #単位ベクトルの長さ\n",
    "        # ※※※※※※※※※※※※※※※※※※※※※※※※※※※※※※※※※※※※※※※※※※※※※※\n",
    "\n",
    "        # 光源両方まとめて計算させる      \n",
    "        # 光源：入射光方向の計算（ここ重要）※※※※※※※※※※※※※※※※※※※※※※※※※※※※※\n",
    "        rad_sun_alt = math.radians(sun_alt)\n",
    "        rad_sun_azi = math.radians(sun_az)\n",
    "\n",
    "        sx             = math.sin(rad_sun_azi) * math.cos(rad_sun_alt)\n",
    "        sy             = math.cos(rad_sun_azi) * math.cos(rad_sun_alt)\n",
    "        sz             = math.sin(rad_sun_alt)\n",
    "        self.vectorSun = np.array([sx, sy, sz])\n",
    "        # ※※※※※※※※※※※※※※※※※※※※※※※※※※※※※※※※※※※※※※※※※※※※※※\n",
    "\n",
    "    # 撮影時間を画像データから取得\n",
    "    def PhotoTakenTime(self, PhotoFile):  \n",
    "        exif_dict  = piexif.load(PhotoFile)\n",
    "        for i,d in exif_dict[\"Exif\"].items():\n",
    "            if i == 36867:   # 日付が記載されているインデックス\n",
    "                D = str(d)\n",
    "        data       = (re.split('[: ]',D))\n",
    "        Date  = data[0][2:6] +\"/\"+ data[1] +\"/\"+ data[2] +\" \"+ data[3] +\":\"+ data[4] +\":\"+ data[5][0:2]\n",
    "        return Date\n",
    "\n",
    "    # 関数１：画像情報をプリント\n",
    "    def printInfo(self):\n",
    "        print(\"\\n\",\"[ PHOTO INFO\",\"]\")\n",
    "        print(\"PhotoID:\",self.photoID, \"  What line is written\",self.num)\n",
    "        print(\"x:\",'{:.3f}'.format(self.x),\"  y:\",'{:.3f}'.format(self.y),\"  z:\",'{:.3f}'.format(self.z))\n",
    "        print(\"Grand Resolution(mm)\",'{:.3f}'.format(self.grand_reso), \"  Width(m):\",'{:.3f}'.format(self.areaW), \"  Hight(m)\",'{:.3f}'.format(self.areaH))\n",
    "        print(\"::Image Range::\",\" Xmin(m)\",'{:.3f}'.format(self.iXmin),\"  Xmax(m)\",'{:.3f}'.format(self.iXmax),\"  Ymin(m)\",'{:.3f}'.format(self.iYmin),\"  Ymax(m)\",'{:.3f}'.format(self.iYmax))\n",
    "        print(self.sunalt ,self.sunazl)"
   ]
  },
  {
   "cell_type": "markdown",
   "metadata": {},
   "source": [
    "### 関数セット:座標変換/オブリーク/位相角/観測角＋GeoTiff"
   ]
  },
  {
   "cell_type": "code",
   "execution_count": 25,
   "metadata": {},
   "outputs": [],
   "source": [
    "###########################################################################\n",
    "#############  XYZ座標からUV座標・ColRaw座標・画像座標の順で計算　  ##############\n",
    "###########################################################################\n",
    "def convertXYZtoCR(workload): # 関数使用条件：mapを使用する, arg1: workload\n",
    "    \n",
    "    PX,PY,PZ =     workload[0] ,     workload[1] ,     workload[2]\n",
    "    PI,PJ,PK = int(workload[3]), int(workload[4]), int(workload[5])\n",
    "    R, G, B  = 0,0,0 # RGBの0set\n",
    "\n",
    "    arr1  = np.array([[PX-cx], [PY-cy], [PZ-cz]])\n",
    "    arr7  = np.dot(carr6, arr1)\n",
    "\n",
    "    # 共線条件式よりUVを算出\n",
    "    U   = -sFocalLength * (arr7[0,0] / arr7[2,0])\n",
    "    V   = -sFocalLength * (arr7[1,0] / arr7[2,0])\n",
    "    \n",
    "    # Col Row を算出\n",
    "    col = round((U/sPixelSize)+iW/2+sCx,0).astype(int)\n",
    "    row = round(iH/2-(V/sPixelSize)+sCy,0).astype(int)\n",
    "\n",
    "    # RGBの取得\n",
    "    if 0<=col<iW and 0<=row<iH and 0<=PI<=xsize and 0<=PJ<=ysize : # add shadow detection \"and 1 == np_shadow[PJ,PI]\"\n",
    "            \n",
    "            Rmin, Rmax = row-a, row+a+1\n",
    "            Cmin, Cmax = col-a, col+a+1\n",
    "            \n",
    "            Rmin = 0      if Rmin < 0      else Rmin\n",
    "            Rmax = iH     if Rmax > iH     else Rmax\n",
    "            Cmin = 0      if Cmin < 0      else Cmin\n",
    "            Cmax = iW     if Cmax > iW     else Cmax\n",
    "            \n",
    "            # NOTE 影の除去と標準偏差を加える場所はここ\n",
    "            R, G, B = np.average(iR[Rmin:Rmax,Cmin:Cmax]), np.average(iG[Rmin:Rmax,Cmin:Cmax]), np.average(iB[Rmin:Rmax,Cmin:Cmax])\n",
    "            #StdR, StdG, StdB = np.std(self.img_R[Rmin:Rmax,Cmin:Cmax]), np.std(self.img_G[Rmin:Rmax,Cmin:Cmax]), np.std(self.img_B[Rmin:Rmax,Cmin:Cmax])\n",
    "\n",
    "    return [PI, PJ, PK, R, G, B]\n",
    "\n",
    "###########################################################################\n",
    "#########################        Occlusion       ##########################\n",
    "###########################################################################\n",
    "# 関数：Occlusion計算前の付属情報の整形処理  -------------------------------------\n",
    "def DataFormatting1(OPa):\n",
    "    OPb        = OPa[~np.all(OPa[:, 3:6] == 0, axis=1)]\n",
    "    c_names   = [\"PI\", \"PJ\", \"PK\", \"R\", \"G\", \"B\"]\n",
    "    DF        = pd.DataFrame(OPb,columns=c_names)\n",
    "    DF[\"vi\"]  = round(ci-DF[\"PI\"],0).astype(int) #点とカメラの距離（X成分）\n",
    "    DF[\"vj\"]  = round(cj-DF[\"PJ\"],0).astype(int) #点とカメラの距離（Y成分）\n",
    "    DF[\"vk\"]  = round(ck-DF[\"PK\"],0).astype(int) #点とカメラの距離（Z成分）\n",
    "    DF[\"d\"]   = round(np.sqrt((DF[\"vi\"])**2 + (DF[\"vj\"])**2 + (DF[\"vk\"])**2),0).astype(int)\n",
    "    DF[\"T\"]   = round(1 / DF[\"d\"],8).astype(float)\n",
    "    OPc       = DF.values\n",
    "    return OPc\n",
    "    \n",
    "# 関数：XYZ座標からUV座標・ColRaw座標・画像座標の順で計算 -----------------------\n",
    "def Occlusion8PhaseAngle(workload): # 関数使用条件：mapを使用する, arg1: workload\n",
    "    \n",
    "    PI,PJ,PK = int(workload[0]) , int(workload[1]) , int(workload[2])\n",
    "    R,G,B    =     workload[3]  ,     workload[4]  ,     workload[5]\n",
    "    vi,vj,vk =     workload[6]  ,     workload[7] ,      workload[8]\n",
    "    d, T     = int(workload[9]),     workload[10]\n",
    "\n",
    "    # 2点間周辺で最大標高を検索\n",
    "    ista, iend = PI if PI <= ci else ci, PI if PI >= ci else ci\n",
    "    jsta, jend = PJ if PJ <= cj else cj, PJ if PJ >= cj else cj\n",
    "    Tmax = np.max(VoxelK[jsta:jend+1, ista:iend+1]) # +1は「start・end」が同値対応\n",
    "    \n",
    "    for n in range(0,d): # スタートを２個進んだところからにした\n",
    "        \n",
    "        # 地上から計算\n",
    "        Tk, Tj, Ti = int(round(PK+vk*T*n,0)), int(round(PJ+vj*T*n,0)), int(round(PI+vi*T*n,0))\n",
    "        \n",
    "        # DEMより高くなると終わり\n",
    "        if Tmax < Tk:\n",
    "            break\n",
    "        \n",
    "        # 投影面の範囲から出ると終わり \n",
    "        elif xstart>Ti or Ti>xstop or ystart>Tj or Tj>ystop :\n",
    "            R,G,B = 0,0,0\n",
    "            break\n",
    "\n",
    "        # もしTkよりDEMが高い場合は不可視\n",
    "        moreHigher = VoxelK[Tj,Ti] > Tk\n",
    "        if moreHigher==True:\n",
    "            R,G,B = 0,0,0\n",
    "            break\n",
    "        #else:\n",
    "        #    continue\n",
    "\n",
    "    return [PI, PJ, PK, R, G, B]\n",
    "\n",
    "###########################################################################\n",
    "#################         Phase Angle（位相角度）        ####################\n",
    "###########################################################################\n",
    "# 関数：Phase Angle計算前の付属情報の整形処理  -------------------------------------\n",
    "def DataFormatting2(OPa):\n",
    "    OPb        = OPa[~np.all(OPa[:, 3:6] == 0, axis=1)]\n",
    "    c_names   = [\"PI\", \"PJ\", \"PK\", \"R\", \"G\", \"B\"]\n",
    "    DF        = pd.DataFrame(OPb,columns=c_names)\n",
    "    DF[\"px\"]  = round(DF[\"PI\"]*Interval+xmin,5).astype(float)\n",
    "    DF[\"py\"]  = round(ymax-DF[\"PJ\"]*Interval,5).astype(float)\n",
    "    DF[\"pz\"]  = round(DF[\"PK\"]*Interval+zmin,5).astype(float)\n",
    "    DF        = DF.drop([\"PK\",\"R\", \"G\", \"B\"],axis=1)\n",
    "    OPc       = DF.values\n",
    "    return OPc\n",
    "\n",
    "def calculate_azimuth_elevation(x, y, z):\n",
    "    # elevation\n",
    "    r = math.sqrt(x**2 + y**2 + z**2)          # 原点からの距離を計算\n",
    "    elevation = math.degrees(math.asin(z / r)) # 仰角の計算\n",
    "    \n",
    "    # azimuth\n",
    "    # 特殊な処理: x, y の符号によって角度を調整\n",
    "    if x == 0:\n",
    "        if y > 0:\n",
    "            return 0, elevation\n",
    "        elif y < 0:\n",
    "            return 180, elevation\n",
    "    elif y == 0:\n",
    "        if x > 0:\n",
    "            return 90, elevation\n",
    "        elif x < 0:\n",
    "            return 270, elevation\n",
    "    \n",
    "    # y 軸からの角度を計算\n",
    "    azimuth = math.atan2(x, y)\n",
    "    azimuth = math.degrees(azimuth)\n",
    "    \n",
    "    # 計算された角度を0から360度の範囲に変換\n",
    "    azimuth = (azimuth + 360) % 360\n",
    "    \n",
    "    return azimuth,elevation\n",
    "\n",
    "def PhaseAngle(workload):\n",
    "\n",
    "    PI,PJ     = int(workload[0]) , int(workload[1])\n",
    "    PX,PY,PZ =     workload[2] ,     workload[3] ,     workload[4]\n",
    "\n",
    "    origin            = np.array([PX,PY,PZ])\n",
    "    camera            = np.array([cx,cy,cz])\n",
    "\n",
    "    vectorCam         = camera - origin\n",
    "\n",
    "    dot_product       = np.dot(vectorCam,vectorSun)\n",
    "    normSun           = np.linalg.norm(vectorSun)\n",
    "    normCam           = np.linalg.norm(vectorCam)\n",
    "    cosine_similarity = dot_product / (normCam*normSun)\n",
    "    angle_in_radians  = np.arccos(cosine_similarity)\n",
    "    angle_in_degrees  = np.degrees(angle_in_radians)\n",
    "\n",
    "    #Observation Angle\n",
    "    ox, oy, oz         = vectorCam\n",
    "    azimuth, elevation = calculate_azimuth_elevation(ox, oy, oz)\n",
    "\n",
    "    #Observation Angle To Normal\n",
    "    Nxyz     =  np.linalg.norm(vectorCam)\n",
    "    Normal   =  vectorCam / Nxyz\n",
    "    Nx,Ny,Nz =  Normal\n",
    "\n",
    "    return [PI, PJ, angle_in_degrees, azimuth, elevation, Nx, Ny, Nz]\n",
    "\n",
    "###########################################################################\n",
    "#########################        Geo Tiff　      ##########################\n",
    "###########################################################################\n",
    "# 関数：Geo Tiff Save（input for matrix） ---------------------------------\n",
    "def GeoTiffSave3(ResultList1,ResultList2,OFile): \n",
    "\n",
    "    #位相角画像の２次元配列\n",
    "    imageP_np = np.zeros((ysize, xsize)).astype(float)\n",
    "\n",
    "    #仮想画像RGBそれぞれの２次元配列\n",
    "    imageR_np = np.zeros((ysize, xsize)).astype(int)\n",
    "    imageG_np = np.zeros((ysize, xsize)).astype(int)\n",
    "    imageB_np = np.zeros((ysize, xsize)).astype(int)\n",
    "\n",
    "    for p in ResultList2:\n",
    "        i, j    = int(p[0]),  int(p[1])\n",
    "        PA      = int(p[2])\n",
    "        imageP_np[j,i] = PA\n",
    "\n",
    "    for p in ResultList1:\n",
    "        i, j    = int(p[0]),  int(p[1])\n",
    "        r, g, b = int(p[3]), int(p[4]), int(p[5])\n",
    "\n",
    "        if imageP_np[j,i] == 0:\n",
    "            imageR_np[j,i], imageG_np[j,i], imageB_np[j,i] = 0,0,0\n",
    "        else:\n",
    "            imageR_np[j,i], imageG_np[j,i], imageB_np[j,i] = r, g, b\n",
    "\n",
    "    # RGB の保存\n",
    "    driver  = gdal.GetDriverByName('GTiff')\n",
    "    dataset = driver.Create(OFile,xsize,ysize,3,gdal.GDT_UInt16)  # 画素数と型の設定\n",
    "    dataset.SetGeoTransform((xmin,Interval,0,ymax,0,-Interval))   # 位置情報の設定\n",
    "    srs = osr.SpatialReference()                                  # 空間参照情報\n",
    "    srs.ImportFromEPSG(2446)                                      # 日本測地第４系に座標系を指定\n",
    "    dataset.SetProjection(srs.ExportToWkt())                      # 空間情報を結合\n",
    "    dataset.GetRasterBand(1).WriteArray(imageR_np)\n",
    "    dataset.GetRasterBand(2).WriteArray(imageG_np)\n",
    "    dataset.GetRasterBand(3).WriteArray(imageB_np)\n",
    "    dataset.FlushCache()\n",
    "    dataset = None\n",
    "\n",
    "# 関数：Geo Tiff Save（input for matrix） ---------------------------------\n",
    "def GeoTiffSave1(ResultList,OFile): \n",
    "\n",
    "    #仮想画像RGBそれぞれの２次元配列\n",
    "    imageP_np = np.zeros((ysize, xsize)).astype(float)\n",
    "\n",
    "    for p in ResultList:\n",
    "        i, j             = int(p[0]),  int(p[1])\n",
    "        p                = p[2]\n",
    "        imageP_np[j,i]   = p\n",
    "\n",
    "     # Phase Angle の保存\n",
    "    driver  = gdal.GetDriverByName('GTiff')\n",
    "    dataset = driver.Create(OFile,xsize,ysize,1,gdal.GDT_Float32) # 画素数と型の設定\n",
    "    dataset.SetGeoTransform((xmin,Interval,0,ymax,0,-Interval))   # 位置情報の設定\n",
    "    srs = osr.SpatialReference()                                  # 空間参照情報\n",
    "    srs.ImportFromEPSG(2446)                                      # 日本測地第４系に座標系を指定\n",
    "    dataset.SetProjection(srs.ExportToWkt())                      # 空間情報を結合\n",
    "    dataset.GetRasterBand(1).WriteArray(imageP_np)\n",
    "    dataset.FlushCache()\n",
    "    dataset = None\n",
    "\n",
    "# 関数：Geo Tiff Save to HSV and RGB Image（input for matrix） ---------------------------------\n",
    "def GeoTiffSave3A(ResultList1,ResultList2,OFile1,OFile2): \n",
    "\n",
    "    #仮想画像HSVそれぞれの２次元配列\n",
    "    hue_np        = np.zeros((ysize, xsize)).astype(float)\n",
    "    saturation_np = np.zeros((ysize, xsize)).astype(float)\n",
    "    value_np      = np.zeros((ysize, xsize)).astype(float)\n",
    "\n",
    "    for p in ResultList1:\n",
    "        i, j                            = int(p[0]), int(p[1])\n",
    "        phase_angle, azimuth, elevation = p[2], p[3], p[4]\n",
    "\n",
    "        if elevation >= 70:\n",
    "            hue                             = azimuth   / 360\n",
    "            saturation                      = elevation / 90\n",
    "            hue_np[j,i], saturation_np[j,i] = hue , saturation\n",
    "\n",
    "\n",
    "    for p in ResultList2:\n",
    "        i, j    = int(p[0]),  int(p[1])\n",
    "        r, g, b = int(p[3]), int(p[4]), int(p[5])\n",
    "        \n",
    "        if hue_np[j,i] == 0:\n",
    "            value_np[j,i] = 0\n",
    "        else:\n",
    "            value_np[j,i] = max(r, g, b) / 65535 # Divide wit Maximum number in 16 bit\n",
    "\n",
    "    # HSV の保存\n",
    "    driver  = gdal.GetDriverByName('GTiff')\n",
    "    dataset = driver.Create(OFile1,xsize,ysize,3,gdal.GDT_Float32)  # 画素数と型の設定\n",
    "    dataset.SetGeoTransform((xmin,Interval,0,ymax,0,-Interval))   # 位置情報の設定\n",
    "    srs = osr.SpatialReference()                                  # 空間参照情報\n",
    "    srs.ImportFromEPSG(2446)                                      # 日本測地第４系に座標系を指定\n",
    "    dataset.SetProjection(srs.ExportToWkt())                      # 空間情報を結合\n",
    "    dataset.GetRasterBand(1).WriteArray(hue_np)\n",
    "    dataset.GetRasterBand(2).WriteArray(saturation_np)\n",
    "    dataset.GetRasterBand(3).WriteArray(value_np)\n",
    "    dataset.FlushCache()\n",
    "    dataset = None\n",
    "\n",
    "    # Convert HSV to RGB\n",
    "    # 仮想画像RGBそれぞれの２次元配列\n",
    "    R_np  = np.zeros((ysize, xsize)).astype(float)\n",
    "    G_np  = np.zeros((ysize, xsize)).astype(float)\n",
    "    B_np  = np.zeros((ysize, xsize)).astype(float)\n",
    "\n",
    "    for j in range(0,ysize):\n",
    "        for i in range(0,xsize):\n",
    "            if value_np[j,i] > 0:\n",
    "                R_np[j,i], G_np[j,i], B_np[j,i] = colorsys.hsv_to_rgb(hue_np[j,i],saturation_np[j,i],value_np[j,i])\n",
    "\n",
    "    # RGB の保存\n",
    "    driver  = gdal.GetDriverByName('GTiff')\n",
    "    dataset = driver.Create(OFile2,xsize,ysize,3,gdal.GDT_Float32)  # 画素数と型の設定\n",
    "    dataset.SetGeoTransform((xmin,Interval,0,ymax,0,-Interval))     # 位置情報の設定\n",
    "    srs = osr.SpatialReference()                                    # 空間参照情報\n",
    "    srs.ImportFromEPSG(2446)                                        # 日本測地第４系に座標系を指定\n",
    "    dataset.SetProjection(srs.ExportToWkt())                        # 空間情報を結合\n",
    "    dataset.GetRasterBand(1).WriteArray(R_np)\n",
    "    dataset.GetRasterBand(2).WriteArray(G_np)\n",
    "    dataset.GetRasterBand(3).WriteArray(B_np)\n",
    "    dataset.FlushCache()\n",
    "    dataset = None\n",
    "\n",
    "# 関数：Geo Tiff Save（input for matrix） ---------------------------------\n",
    "def GeoTiffSave3N(ResultList1,OFile): \n",
    "\n",
    "    #単位ベクトルそれぞれの２次元配列\n",
    "    imageNx_np   = np.zeros((ysize, xsize)).astype(float)\n",
    "    imageNy_np   = np.zeros((ysize, xsize)).astype(float)\n",
    "    imageNz_np   = np.zeros((ysize, xsize)).astype(float)\n",
    "\n",
    "    for p in ResultList1:\n",
    "        i, j      = int(p[0]),  int(p[1])\n",
    "        elevation = p[4]\n",
    "        Nx,Ny,Nz  = p[5],p[6],p[7]\n",
    "\n",
    "        if elevation >= 70:\n",
    "            imageNx_np[j,i] = np.round(((Nx + 1)/2) * 255,0)\n",
    "            imageNy_np[j,i] = np.round(((Ny + 1)/2) * 255,0)\n",
    "            imageNz_np[j,i] = np.round(((Nz + 1)/2) * 255,0)\n",
    "\n",
    "    # Convert To Blue Map\n",
    "    #imageNx_np = np.round(((imageNx_np + 1)/2) * 255,0)\n",
    "    #imageNy_np = np.round(((imageNy_np + 1)/2) * 255,0)\n",
    "    #imageNz_np = np.round(((imageNz_np + 1)/2) * 255,0)\n",
    "\n",
    "    # Save to Tiff file\n",
    "    driver  = gdal.GetDriverByName('GTiff')\n",
    "    dataset = driver.Create(OFile,xsize,ysize,3,gdal.GDT_Byte)  # 画素数と型の設定 #gdal.GDT_Byte , gdal.GDT_Float32\n",
    "    dataset.SetGeoTransform((xmin,Interval,0,ymax,0,-Interval))   # 位置情報の設定\n",
    "    srs = osr.SpatialReference()                                  # 空間参照情報\n",
    "    srs.ImportFromEPSG(2446)                                      # 日本測地第４系に座標系を指定\n",
    "    dataset.SetProjection(srs.ExportToWkt())                      # 空間情報を結合\n",
    "    dataset.GetRasterBand(1).WriteArray(imageNx_np)\n",
    "    dataset.GetRasterBand(2).WriteArray(imageNy_np)\n",
    "    dataset.GetRasterBand(3).WriteArray(imageNz_np)\n",
    "    dataset.FlushCache()\n",
    "    dataset = None\n",
    "    \n",
    "\n",
    "\n",
    "###########################################################################\n",
    "#######################        Shadow Tiff　      #########################\n",
    "###########################################################################\n",
    "# 関数：日向日陰データの読み込み -----------------------------------------------\n",
    "def ShadowTiff(IFile):\n",
    "    ti_shadow = tifffile.imread(IFile)\n",
    "    np_shadow = np.array(ti_shadow[:,:]).astype(int)\n",
    "    return np_shadow"
   ]
  },
  {
   "cell_type": "markdown",
   "metadata": {},
   "source": [
    "## 並列処理セット"
   ]
  },
  {
   "cell_type": "code",
   "execution_count": 26,
   "metadata": {},
   "outputs": [],
   "source": [
    "###########################################################################\n",
    "##################  　　　　　　　共用できる関数　　　　　　　   #################\n",
    "###########################################################################\n",
    "# 関数1：並列処理のための仕事量分割量の計算 --------------------------------------\n",
    "def Workers(P_np):\n",
    "    number , column = P_np.shape\n",
    "    workers      = int(os.cpu＿count())\n",
    "    workloadRow  = number//workers  # 切り下げ\n",
    "    return number, workers, workloadRow\n",
    "\n",
    "\n",
    "###########################################################################\n",
    "##################　投影面からUV-ColRawを計算する座標計算に利用 #################\n",
    "###########################################################################\n",
    "# 関数1：スレッドに仕事を均等に渡す処理 ------------------------------------------\n",
    "def parallelprocessing(P_np, number, workers, workloadRow, wnumber): # forで仕事をworkerに渡す\n",
    "    start      = workloadRow * wnumber\n",
    "    end        = number + 1 if wnumber == workers else workloadRow * (wnumber + 1)\n",
    "    workload   = P_np[start:end]\n",
    "    resultlist = list(map(convertXYZtoCR,workload))\n",
    "    return resultlist\n",
    "\n",
    "# 関数2：投影面DEMから並列処理により原画像のUVを求める -----------------------------\n",
    "def Confu(self):\n",
    "    # 並列処理によって「投影面DEMのxyzから現画像uvを計算」そして保存\n",
    "    with confu.ProcessPoolExecutor(max_workers=os.cpu＿count()) as executor: \n",
    "        number, workers, workloadRow = Workers(P_np)\n",
    "        futures = [executor.submit(parallelprocessing, P_np, number, workers, workloadRow, wnumber) for wnumber in range(0,workers)]\n",
    "\n",
    "        # 結果をまとめる\n",
    "        marge_PointList = np.array([[0,1,2,3,4,5]])\n",
    "        for f in tqdm(futures):\n",
    "            result_XYZUVIJK = f.result()\n",
    "            marge_PointList  = np.concatenate([marge_PointList, result_XYZUVIJK],0)\n",
    "\n",
    "    #結果を整形してから保存する\n",
    "    PointsList2Bsaved = np.delete(marge_PointList, 0, axis=0)\n",
    "    return PointsList2Bsaved\n",
    "\n",
    "\n",
    "###########################################################################\n",
    "#####################   　オクルージョンの算出に利用     #######################\n",
    "###########################################################################\n",
    "# 関数1：スレッドに仕事を均等に渡す処理 ------------------------------------------\n",
    "def parallelprocessing_2(OP2, number, workers, workloadRow, wnumber): # forで仕事をworkerに渡す\n",
    "    start      = workloadRow * wnumber\n",
    "    end        = number + 1 if wnumber == workers else workloadRow * (wnumber + 1)\n",
    "    workload   = OP2[start:end]\n",
    "    resultlist = list(map(Occlusion8PhaseAngle,workload))\n",
    "    return resultlist\n",
    "\n",
    "# 関数2：投影面DEMから並列処理により原画像のUVを求める -----------------------------\n",
    "def Confu_2(OP2):\n",
    "    # 並列処理によって「投影面DEMのxyzから現画像uvを計算」そして保存\n",
    "    with confu.ProcessPoolExecutor(max_workers=os.cpu＿count()) as executor: \n",
    "        number, workers, workloadRow = Workers(OP2)\n",
    "        futures = [executor.submit(parallelprocessing_2, OP2, number, workers, workloadRow, wnumber) for wnumber in range(0,workers)]\n",
    "\n",
    "        # 結果をまとめる\n",
    "        marge_PointList = np.array([[0,1,2,3,4,5]])\n",
    "        for f in tqdm(futures):\n",
    "            result_IJKRGB = f.result()\n",
    "            marge_PointList  = np.concatenate([marge_PointList, result_IJKRGB],0)\n",
    "\n",
    "    #結果を整形してから保存する\n",
    "    PointsList2Bsaved = np.delete(marge_PointList, 0, axis=0)\n",
    "    return PointsList2Bsaved\n",
    "\n",
    "\n",
    "###########################################################################\n",
    "########################       位相角の算出に利用      #######################\n",
    "###########################################################################\n",
    "# 関数1：スレッドに仕事を均等に渡す処理 ------------------------------------------\n",
    "def parallelprocessing_3(OP4, number, workers, workloadRow, wnumber): # forで仕事をworkerに渡す\n",
    "    start      = workloadRow * wnumber\n",
    "    end        = number + 1 if wnumber == workers else workloadRow * (wnumber + 1)\n",
    "    workload2  = OP4[start:end]\n",
    "    resultlist = list(map(PhaseAngle,workload2))\n",
    "    return resultlist\n",
    "\n",
    "# 関数2：投影面DEMから並列処理により原画像のUVを求める -----------------------------\n",
    "def Confu_3(OP4):\n",
    "    # 並列処理によって「投影面DEMのxyzから現画像uvを計算」そして保存\n",
    "    with confu.ProcessPoolExecutor(max_workers=os.cpu＿count()) as executor: \n",
    "        number, workers, workloadRow = Workers(OP4)\n",
    "        futures = [executor.submit(parallelprocessing_3, OP4, number, workers, workloadRow, wnumber) for wnumber in range(0,workers)]\n",
    "\n",
    "        # 結果をまとめる\n",
    "        marge_PointList = np.array([[0,1,2,3,4,5,6,7]])\n",
    "        for f in tqdm(futures):\n",
    "            result_IJPa = f.result()\n",
    "            marge_PointList  = np.concatenate([marge_PointList, result_IJPa],0)\n",
    "\n",
    "    #結果を整形してから保存する\n",
    "    PointsList2Bsaved = np.delete(marge_PointList, 0, axis=0)\n",
    "    return PointsList2Bsaved\n"
   ]
  },
  {
   "cell_type": "markdown",
   "metadata": {},
   "source": [
    "### 画像の隅っこがオクルージョンでケラられて、RGB値しか無い場合の対応"
   ]
  },
  {
   "cell_type": "code",
   "execution_count": 27,
   "metadata": {},
   "outputs": [],
   "source": [
    "def DeleteRGB(OP3,OP5):\n",
    "    R_np2  = np.zeros((ysize, xsize)).astype(float)\n",
    "    G_np2  = np.zeros((ysize, xsize)).astype(float)\n",
    "    B_np2  = np.zeros((ysize, xsize)).astype(float)\n",
    "\n",
    "    for j in range(0,ysize):\n",
    "        for i in range(0,xsize):\n",
    "            if value_np[j,i] > 0:\n",
    "                R_np2[j,i], G_np2[j,i], B_np2[j,i] = colorsys.hsv_to_rgb(hue_np[j,i],saturation_np[j,i],value_np[j,i])\n",
    "    return"
   ]
  },
  {
   "cell_type": "markdown",
   "metadata": {},
   "source": [
    "# ||||プログラム実行"
   ]
  },
  {
   "cell_type": "code",
   "execution_count": 28,
   "metadata": {},
   "outputs": [
    {
     "name": "stdout",
     "output_type": "stream",
     "text": [
      "\n",
      " [ Sensor Info ]\n",
      "Sensor Nmae: P1   Pixel Width: 8192   Pixel Hight: 5460\n",
      "Pixel Size: 0.0000043948614 Cx: -34.02808  Cy: 21.09109\n",
      "Sensor SizeX(m) 0.03600   Sensor SizeY(m) 0.02400\n",
      "Focal Length: 7973.36592  Camera iFOV: 0.125\n",
      "P1\n",
      "DJI_20231228115022_0001 33.38458333333333 176.04663888888888 [ 0.05756832 -0.83300908  0.55025609]\n"
     ]
    },
    {
     "name": "stderr",
     "output_type": "stream",
     "text": [
      "100%|██████████| 64/64 [00:17<00:00,  3.75it/s]\n",
      "100%|██████████| 64/64 [00:07<00:00,  8.32it/s]\n",
      "100%|██████████| 64/64 [00:02<00:00, 30.16it/s]\n"
     ]
    },
    {
     "name": "stdout",
     "output_type": "stream",
     "text": [
      "elapsed_time:33.16461181640625[sec]\n",
      "DJI_20231228115025_0002 33.385305555555554 176.06033333333335 [ 0.05736874 -0.8330159   0.55026661]\n"
     ]
    },
    {
     "name": "stderr",
     "output_type": "stream",
     "text": [
      "100%|██████████| 64/64 [00:17<00:00,  3.74it/s]\n",
      "100%|██████████| 64/64 [00:08<00:00,  7.95it/s]\n",
      "100%|██████████| 64/64 [00:02<00:00, 31.46it/s]\n"
     ]
    },
    {
     "name": "stdout",
     "output_type": "stream",
     "text": [
      "elapsed_time:33.66990566253662[sec]\n",
      "DJI_20231228115028_0003 33.38602777777778 176.07399999999998 [ 0.05716957 -0.83302264  0.55027714]\n"
     ]
    },
    {
     "name": "stderr",
     "output_type": "stream",
     "text": [
      "100%|██████████| 64/64 [00:17<00:00,  3.70it/s]\n",
      "100%|██████████| 64/64 [00:08<00:00,  7.91it/s]\n",
      "100%|██████████| 64/64 [00:02<00:00, 23.80it/s]\n"
     ]
    },
    {
     "name": "stdout",
     "output_type": "stream",
     "text": [
      "elapsed_time:34.84490418434143[sec]\n",
      "DJI_20231228115030_0004 33.3865 176.0831111111111 [ 0.05703679 -0.83302719  0.55028402]\n"
     ]
    },
    {
     "name": "stderr",
     "output_type": "stream",
     "text": [
      "100%|██████████| 64/64 [00:17<00:00,  3.71it/s]\n",
      "100%|██████████| 64/64 [00:07<00:00,  8.16it/s]\n",
      "100%|██████████| 64/64 [00:02<00:00, 24.29it/s]\n"
     ]
    },
    {
     "name": "stdout",
     "output_type": "stream",
     "text": [
      "elapsed_time:34.25064468383789[sec]\n",
      "DJI_20231228115033_0005 33.38719444444445 176.09680555555556 [ 0.05683723 -0.83303415  0.55029414]\n"
     ]
    },
    {
     "name": "stderr",
     "output_type": "stream",
     "text": [
      "100%|██████████| 64/64 [00:16<00:00,  3.84it/s]\n",
      "100%|██████████| 64/64 [00:08<00:00,  7.42it/s]\n",
      "100%|██████████| 64/64 [00:02<00:00, 25.35it/s]\n"
     ]
    },
    {
     "name": "stdout",
     "output_type": "stream",
     "text": [
      "elapsed_time:34.30594253540039[sec]\n",
      "DJI_20231228115036_0006 33.38791666666667 176.11047222222223 [ 0.05663806 -0.83304076  0.55030466]\n"
     ]
    },
    {
     "name": "stderr",
     "output_type": "stream",
     "text": [
      "100%|██████████| 64/64 [00:17<00:00,  3.76it/s]\n",
      "100%|██████████| 64/64 [00:08<00:00,  7.53it/s]\n",
      "100%|██████████| 64/64 [00:02<00:00, 22.91it/s]\n"
     ]
    },
    {
     "name": "stdout",
     "output_type": "stream",
     "text": [
      "elapsed_time:34.991759300231934[sec]\n",
      "DJI_20231228115039_0007 33.38861111111111 176.12416666666667 [ 0.0564385  -0.83304762  0.55031478]\n"
     ]
    },
    {
     "name": "stderr",
     "output_type": "stream",
     "text": [
      "100%|██████████| 64/64 [00:17<00:00,  3.75it/s]\n",
      "100%|██████████| 64/64 [00:08<00:00,  7.91it/s]\n",
      "100%|██████████| 64/64 [00:02<00:00, 22.30it/s]\n"
     ]
    },
    {
     "name": "stdout",
     "output_type": "stream",
     "text": [
      "elapsed_time:34.66893196105957[sec]\n",
      "DJI_20231228115041_0008 33.38908333333333 176.13327777777778 [ 0.05630572 -0.83305206  0.55032167]\n"
     ]
    },
    {
     "name": "stderr",
     "output_type": "stream",
     "text": [
      "100%|██████████| 64/64 [00:17<00:00,  3.73it/s]\n",
      "100%|██████████| 64/64 [00:08<00:00,  7.62it/s]\n",
      "100%|██████████| 64/64 [00:02<00:00, 23.23it/s]\n"
     ]
    },
    {
     "name": "stdout",
     "output_type": "stream",
     "text": [
      "elapsed_time:34.97339344024658[sec]\n",
      "DJI_20231228115044_0009 33.38977777777778 176.14697222222222 [ 0.05610616 -0.83305884  0.55033178]\n"
     ]
    },
    {
     "name": "stderr",
     "output_type": "stream",
     "text": [
      "100%|██████████| 64/64 [00:17<00:00,  3.70it/s]\n",
      "100%|██████████| 64/64 [00:09<00:00,  7.05it/s]\n",
      "100%|██████████| 64/64 [00:02<00:00, 23.23it/s]\n"
     ]
    },
    {
     "name": "stdout",
     "output_type": "stream",
     "text": [
      "elapsed_time:35.98158597946167[sec]\n",
      "DJI_20231228115047_0010 33.3905 176.16063888888888 [ 0.05590699 -0.83306527  0.55034231]\n"
     ]
    },
    {
     "name": "stderr",
     "output_type": "stream",
     "text": [
      "100%|██████████| 64/64 [00:16<00:00,  3.78it/s]\n",
      "100%|██████████| 64/64 [00:08<00:00,  7.70it/s]\n",
      "100%|██████████| 64/64 [00:02<00:00, 22.65it/s]\n"
     ]
    },
    {
     "name": "stdout",
     "output_type": "stream",
     "text": [
      "elapsed_time:34.93340229988098[sec]\n",
      "DJI_20231228115050_0011 33.391194444444444 176.17433333333332 [ 0.05570743 -0.83307196  0.55035243]\n"
     ]
    },
    {
     "name": "stderr",
     "output_type": "stream",
     "text": [
      "100%|██████████| 64/64 [00:17<00:00,  3.76it/s]\n",
      "100%|██████████| 64/64 [00:08<00:00,  7.34it/s]\n",
      "100%|██████████| 64/64 [00:02<00:00, 22.53it/s]\n"
     ]
    },
    {
     "name": "stdout",
     "output_type": "stream",
     "text": [
      "elapsed_time:35.26742768287659[sec]\n",
      "DJI_20231228115052_0012 33.39163888888889 176.18344444444446 [ 0.05557467 -0.83307655  0.55035891]\n"
     ]
    },
    {
     "name": "stderr",
     "output_type": "stream",
     "text": [
      "100%|██████████| 64/64 [00:17<00:00,  3.69it/s]\n",
      "100%|██████████| 64/64 [00:09<00:00,  6.76it/s]\n",
      "100%|██████████| 64/64 [00:02<00:00, 22.61it/s]\n"
     ]
    },
    {
     "name": "stdout",
     "output_type": "stream",
     "text": [
      "elapsed_time:36.378024101257324[sec]\n",
      "DJI_20231228115055_0013 33.39233333333333 176.1971388888889 [ 0.05537511 -0.83308315  0.55036903]\n"
     ]
    },
    {
     "name": "stderr",
     "output_type": "stream",
     "text": [
      "100%|██████████| 64/64 [00:17<00:00,  3.66it/s]\n",
      "100%|██████████| 64/64 [00:08<00:00,  7.56it/s]\n",
      "100%|██████████| 64/64 [00:02<00:00, 27.03it/s]\n"
     ]
    },
    {
     "name": "stdout",
     "output_type": "stream",
     "text": [
      "elapsed_time:34.71386361122131[sec]\n",
      "DJI_20231228115058_0014 33.393027777777775 176.21080555555554 [ 0.05517595 -0.83308968  0.55037914]\n"
     ]
    },
    {
     "name": "stderr",
     "output_type": "stream",
     "text": [
      "100%|██████████| 64/64 [00:17<00:00,  3.65it/s]\n",
      "100%|██████████| 64/64 [00:06<00:00,  9.30it/s]\n",
      "100%|██████████| 64/64 [00:02<00:00, 29.56it/s]\n"
     ]
    },
    {
     "name": "stdout",
     "output_type": "stream",
     "text": [
      "elapsed_time:32.61093020439148[sec]\n",
      "DJI_20231228115101_0015 33.39372222222222 176.2245 [ 0.05497639 -0.83309619  0.55038926]\n"
     ]
    },
    {
     "name": "stderr",
     "output_type": "stream",
     "text": [
      "100%|██████████| 64/64 [00:17<00:00,  3.72it/s]\n",
      "100%|██████████| 64/64 [00:03<00:00, 18.84it/s]\n",
      "100%|██████████| 64/64 [00:01<00:00, 34.89it/s]\n"
     ]
    },
    {
     "name": "stdout",
     "output_type": "stream",
     "text": [
      "elapsed_time:28.06872057914734[sec]\n",
      "DJI_20231228115103_0016 33.39416666666666 176.2336111111111 [ 0.05484363 -0.83310066  0.55039574]\n"
     ]
    },
    {
     "name": "stderr",
     "output_type": "stream",
     "text": [
      "100%|██████████| 64/64 [00:16<00:00,  3.79it/s]\n",
      "100%|██████████| 64/64 [00:03<00:00, 17.83it/s]\n",
      "100%|██████████| 64/64 [00:01<00:00, 38.89it/s]\n"
     ]
    },
    {
     "name": "stdout",
     "output_type": "stream",
     "text": [
      "elapsed_time:27.450836181640625[sec]\n",
      "DJI_20231228115104_0017 33.39438888888889 176.23819444444442 [ 0.05477685 -0.83310291  0.55039898]\n"
     ]
    },
    {
     "name": "stderr",
     "output_type": "stream",
     "text": [
      "100%|██████████| 64/64 [00:17<00:00,  3.61it/s]\n",
      "100%|██████████| 64/64 [00:02<00:00, 26.09it/s]\n",
      "100%|██████████| 64/64 [00:01<00:00, 45.55it/s]\n"
     ]
    },
    {
     "name": "stdout",
     "output_type": "stream",
     "text": [
      "elapsed_time:26.8992018699646[sec]\n",
      "DJI_20231228115106_0018 33.39483333333333 176.2473611111111 [ 0.05464328 -0.8331074   0.55040546]\n"
     ]
    },
    {
     "name": "stderr",
     "output_type": "stream",
     "text": [
      "100%|██████████| 64/64 [00:17<00:00,  3.73it/s]\n",
      "100%|██████████| 64/64 [00:03<00:00, 19.91it/s]\n",
      "100%|██████████| 64/64 [00:01<00:00, 38.85it/s]\n"
     ]
    },
    {
     "name": "stdout",
     "output_type": "stream",
     "text": [
      "elapsed_time:27.207584619522095[sec]\n",
      "DJI_20231228115107_0019 33.39505555555556 176.25194444444443 [ 0.0545765  -0.83310964  0.55040869]\n"
     ]
    },
    {
     "name": "stderr",
     "output_type": "stream",
     "text": [
      "100%|██████████| 64/64 [00:17<00:00,  3.67it/s]\n",
      "100%|██████████| 64/64 [00:03<00:00, 16.93it/s]\n",
      "100%|██████████| 64/64 [00:02<00:00, 27.14it/s]\n"
     ]
    },
    {
     "name": "stdout",
     "output_type": "stream",
     "text": [
      "elapsed_time:29.04544711112976[sec]\n",
      "DJI_20231228115110_0020 33.39575 176.26569444444445 [ 0.05437613 -0.83311606  0.55041881]\n"
     ]
    },
    {
     "name": "stderr",
     "output_type": "stream",
     "text": [
      "100%|██████████| 64/64 [00:17<00:00,  3.66it/s]\n",
      "100%|██████████| 64/64 [00:04<00:00, 12.87it/s]\n",
      "100%|██████████| 64/64 [00:02<00:00, 27.15it/s]\n"
     ]
    },
    {
     "name": "stdout",
     "output_type": "stream",
     "text": [
      "elapsed_time:30.687060356140137[sec]\n",
      "DJI_20231228115113_0021 33.39641666666667 176.27944444444447 [ 0.05417578 -0.83312269  0.55042853]\n"
     ]
    },
    {
     "name": "stderr",
     "output_type": "stream",
     "text": [
      "100%|██████████| 64/64 [00:17<00:00,  3.68it/s]\n",
      "100%|██████████| 64/64 [00:07<00:00,  8.62it/s]\n",
      "100%|██████████| 64/64 [00:02<00:00, 28.36it/s]\n"
     ]
    },
    {
     "name": "stdout",
     "output_type": "stream",
     "text": [
      "elapsed_time:33.286131620407104[sec]\n",
      "DJI_20231228115115_0022 33.39688888888889 176.28861111111112 [ 0.05404219 -0.83312682  0.55043541]\n"
     ]
    },
    {
     "name": "stderr",
     "output_type": "stream",
     "text": [
      "100%|██████████| 64/64 [00:17<00:00,  3.70it/s]\n",
      "100%|██████████| 64/64 [00:07<00:00,  8.13it/s]\n",
      "100%|██████████| 64/64 [00:02<00:00, 26.69it/s]\n"
     ]
    },
    {
     "name": "stdout",
     "output_type": "stream",
     "text": [
      "elapsed_time:34.200074434280396[sec]\n",
      "DJI_20231228115118_0023 33.397555555555556 176.3023611111111 [ 0.05384184 -0.83313338  0.55044512]\n"
     ]
    },
    {
     "name": "stderr",
     "output_type": "stream",
     "text": [
      "100%|██████████| 64/64 [00:17<00:00,  3.69it/s]\n",
      "100%|██████████| 64/64 [00:08<00:00,  7.16it/s]\n",
      "100%|██████████| 64/64 [00:02<00:00, 22.92it/s]\n"
     ]
    },
    {
     "name": "stdout",
     "output_type": "stream",
     "text": [
      "elapsed_time:35.82263398170471[sec]\n",
      "DJI_20231228115121_0024 33.39822222222222 176.31611111111113 [ 0.05364149 -0.83313988  0.55045484]\n"
     ]
    },
    {
     "name": "stderr",
     "output_type": "stream",
     "text": [
      "100%|██████████| 64/64 [00:17<00:00,  3.56it/s]\n",
      "100%|██████████| 64/64 [00:08<00:00,  7.36it/s]\n",
      "100%|██████████| 64/64 [00:02<00:00, 23.81it/s]\n"
     ]
    },
    {
     "name": "stdout",
     "output_type": "stream",
     "text": [
      "elapsed_time:36.08634352684021[sec]\n",
      "DJI_20231228115124_0025 33.398916666666665 176.32986111111111 [ 0.05344112 -0.83314607  0.55046495]\n"
     ]
    },
    {
     "name": "stderr",
     "output_type": "stream",
     "text": [
      "100%|██████████| 64/64 [00:17<00:00,  3.75it/s]\n",
      "100%|██████████| 64/64 [00:09<00:00,  7.04it/s]\n",
      "100%|██████████| 64/64 [00:02<00:00, 23.17it/s]\n"
     ]
    },
    {
     "name": "stdout",
     "output_type": "stream",
     "text": [
      "elapsed_time:35.6259560585022[sec]\n",
      "DJI_20231228115126_0026 33.39936111111111 176.33905555555557 [ 0.05330715 -0.83315038  0.55047143]\n"
     ]
    },
    {
     "name": "stderr",
     "output_type": "stream",
     "text": [
      "100%|██████████| 64/64 [00:16<00:00,  3.80it/s]\n",
      "100%|██████████| 64/64 [00:07<00:00,  8.12it/s]\n",
      "100%|██████████| 64/64 [00:02<00:00, 22.33it/s]\n"
     ]
    },
    {
     "name": "stdout",
     "output_type": "stream",
     "text": [
      "elapsed_time:34.241305112838745[sec]\n",
      "DJI_20231228115129_0027 33.40002777777778 176.35280555555556 [ 0.0531068  -0.83315675  0.55048114]\n"
     ]
    },
    {
     "name": "stderr",
     "output_type": "stream",
     "text": [
      "100%|██████████| 64/64 [00:17<00:00,  3.74it/s]\n",
      "100%|██████████| 64/64 [00:08<00:00,  7.94it/s]\n",
      "100%|██████████| 64/64 [00:02<00:00, 23.97it/s]\n"
     ]
    },
    {
     "name": "stdout",
     "output_type": "stream",
     "text": [
      "elapsed_time:34.40341591835022[sec]\n",
      "DJI_20231228115132_0028 33.40069444444444 176.36655555555555 [ 0.05290645 -0.83316308  0.55049086]\n"
     ]
    },
    {
     "name": "stderr",
     "output_type": "stream",
     "text": [
      "100%|██████████| 64/64 [00:17<00:00,  3.76it/s]\n",
      "100%|██████████| 64/64 [00:08<00:00,  7.84it/s]\n",
      "100%|██████████| 64/64 [00:02<00:00, 23.49it/s]\n"
     ]
    },
    {
     "name": "stdout",
     "output_type": "stream",
     "text": [
      "elapsed_time:34.443572759628296[sec]\n",
      "DJI_20231228115135_0029 33.40136111111111 176.38030555555557 [ 0.0527061  -0.83316936  0.55050057]\n"
     ]
    },
    {
     "name": "stderr",
     "output_type": "stream",
     "text": [
      "100%|██████████| 64/64 [00:17<00:00,  3.73it/s]\n",
      "100%|██████████| 64/64 [00:08<00:00,  7.69it/s]\n",
      "100%|██████████| 64/64 [00:02<00:00, 26.56it/s]\n"
     ]
    },
    {
     "name": "stdout",
     "output_type": "stream",
     "text": [
      "elapsed_time:34.32033014297485[sec]\n",
      "DJI_20231228115137_0030 33.401805555555555 176.38947222222222 [ 0.05257253 -0.83317352  0.55050705]\n"
     ]
    },
    {
     "name": "stderr",
     "output_type": "stream",
     "text": [
      "100%|██████████| 64/64 [00:17<00:00,  3.75it/s]\n",
      "100%|██████████| 64/64 [00:07<00:00,  8.11it/s]\n",
      "100%|██████████| 64/64 [00:02<00:00, 23.03it/s]\n"
     ]
    },
    {
     "name": "stdout",
     "output_type": "stream",
     "text": [
      "elapsed_time:34.17748475074768[sec]\n",
      "DJI_20231228115140_0031 33.40247222222222 176.40325 [ 0.05237178 -0.83317975  0.55051676]\n"
     ]
    },
    {
     "name": "stderr",
     "output_type": "stream",
     "text": [
      "100%|██████████| 64/64 [00:17<00:00,  3.74it/s]\n",
      "100%|██████████| 64/64 [00:07<00:00,  8.18it/s]\n",
      "100%|██████████| 64/64 [00:02<00:00, 24.89it/s]\n"
     ]
    },
    {
     "name": "stdout",
     "output_type": "stream",
     "text": [
      "elapsed_time:33.93704962730408[sec]\n",
      "DJI_20231228115143_0032 33.40313888888889 176.417 [ 0.05217143 -0.8331859   0.55052648]\n"
     ]
    },
    {
     "name": "stderr",
     "output_type": "stream",
     "text": [
      "100%|██████████| 64/64 [00:17<00:00,  3.73it/s]\n",
      "100%|██████████| 64/64 [00:07<00:00,  8.12it/s]\n",
      "100%|██████████| 64/64 [00:02<00:00, 27.27it/s]\n"
     ]
    },
    {
     "name": "stdout",
     "output_type": "stream",
     "text": [
      "elapsed_time:33.82630467414856[sec]\n",
      "DJI_20231228115146_0033 33.403777777777776 176.43075 [ 0.05197109 -0.83319227  0.55053578]\n"
     ]
    },
    {
     "name": "stderr",
     "output_type": "stream",
     "text": [
      "100%|██████████| 64/64 [00:17<00:00,  3.72it/s]\n",
      "100%|██████████| 64/64 [00:08<00:00,  7.75it/s]\n",
      "100%|██████████| 64/64 [00:02<00:00, 28.59it/s]\n"
     ]
    },
    {
     "name": "stdout",
     "output_type": "stream",
     "text": [
      "elapsed_time:34.14209008216858[sec]\n",
      "DJI_20231228115148_0034 33.404222222222224 176.43991666666668 [ 0.05183753 -0.83319631  0.55054226]\n"
     ]
    },
    {
     "name": "stderr",
     "output_type": "stream",
     "text": [
      "100%|██████████| 64/64 [00:17<00:00,  3.75it/s]\n",
      "100%|██████████| 64/64 [00:08<00:00,  7.91it/s]\n",
      "100%|██████████| 64/64 [00:02<00:00, 28.57it/s]\n"
     ]
    },
    {
     "name": "stdout",
     "output_type": "stream",
     "text": [
      "elapsed_time:33.66772699356079[sec]\n",
      "DJI_20231228115150_0035 33.40463888888889 176.4491111111111 [ 0.05170357 -0.83320062  0.55054833]\n"
     ]
    },
    {
     "name": "stderr",
     "output_type": "stream",
     "text": [
      "100%|██████████| 64/64 [00:16<00:00,  3.79it/s]\n",
      "100%|██████████| 64/64 [00:07<00:00,  8.73it/s]\n",
      "100%|██████████| 64/64 [00:01<00:00, 33.32it/s]\n"
     ]
    },
    {
     "name": "stdout",
     "output_type": "stream",
     "text": [
      "elapsed_time:32.31655168533325[sec]\n",
      "DJI_20231228115151_0036 33.40486111111111 176.45366666666666 [ 0.05163719 -0.8332026   0.55055157]\n"
     ]
    },
    {
     "name": "stderr",
     "output_type": "stream",
     "text": [
      "100%|██████████| 64/64 [00:16<00:00,  3.87it/s]\n",
      "100%|██████████| 64/64 [00:05<00:00, 11.36it/s]\n",
      "100%|██████████| 64/64 [00:02<00:00, 25.73it/s]\n"
     ]
    },
    {
     "name": "stdout",
     "output_type": "stream",
     "text": [
      "elapsed_time:30.747511863708496[sec]\n",
      "DJI_20231228115154_0037 33.40547222222222 176.46738888888888 [ 0.05143728 -0.83320908  0.55056047]\n"
     ]
    },
    {
     "name": "stderr",
     "output_type": "stream",
     "text": [
      "100%|██████████| 64/64 [00:16<00:00,  3.80it/s]\n",
      "100%|██████████| 64/64 [00:06<00:00, 10.32it/s]\n",
      "100%|██████████| 64/64 [00:02<00:00, 26.73it/s]\n"
     ]
    },
    {
     "name": "stdout",
     "output_type": "stream",
     "text": [
      "elapsed_time:31.68562388420105[sec]\n",
      "DJI_20231228115155_0038 33.40569444444444 176.47194444444446 [ 0.0513709  -0.83321104  0.55056371]\n"
     ]
    },
    {
     "name": "stderr",
     "output_type": "stream",
     "text": [
      "100%|██████████| 64/64 [00:16<00:00,  3.84it/s]\n",
      "100%|██████████| 64/64 [00:07<00:00,  8.78it/s]\n",
      "100%|██████████| 64/64 [00:02<00:00, 29.22it/s]\n"
     ]
    },
    {
     "name": "stdout",
     "output_type": "stream",
     "text": [
      "elapsed_time:32.43190097808838[sec]\n",
      "DJI_20231228115158_0039 33.40633333333333 176.48563888888887 [ 0.05117137 -0.83321716  0.55057302]\n"
     ]
    },
    {
     "name": "stderr",
     "output_type": "stream",
     "text": [
      "100%|██████████| 64/64 [00:17<00:00,  3.70it/s]\n",
      "100%|██████████| 64/64 [00:07<00:00,  8.00it/s]\n",
      "100%|██████████| 64/64 [00:02<00:00, 29.13it/s]\n"
     ]
    },
    {
     "name": "stdout",
     "output_type": "stream",
     "text": [
      "elapsed_time:33.98125147819519[sec]\n",
      "DJI_20231228115201_0040 33.40697222222222 176.4993333333333 [ 0.05097185 -0.83322324  0.55058233]\n"
     ]
    },
    {
     "name": "stderr",
     "output_type": "stream",
     "text": [
      "100%|██████████| 64/64 [00:16<00:00,  3.77it/s]\n",
      "100%|██████████| 64/64 [00:07<00:00,  8.36it/s]\n",
      "100%|██████████| 64/64 [00:02<00:00, 25.71it/s]\n"
     ]
    },
    {
     "name": "stdout",
     "output_type": "stream",
     "text": [
      "elapsed_time:33.541666746139526[sec]\n",
      "DJI_20231228115203_0041 33.40738888888889 176.50844444444445 [ 0.05083911 -0.83322734  0.5505884 ]\n"
     ]
    },
    {
     "name": "stderr",
     "output_type": "stream",
     "text": [
      "100%|██████████| 64/64 [00:17<00:00,  3.74it/s]\n",
      "100%|██████████| 64/64 [00:07<00:00,  8.09it/s]\n",
      "100%|██████████| 64/64 [00:02<00:00, 25.28it/s]\n"
     ]
    },
    {
     "name": "stdout",
     "output_type": "stream",
     "text": [
      "elapsed_time:34.05500149726868[sec]\n",
      "DJI_20231228115206_0042 33.408027777777775 176.5221388888889 [ 0.05063958 -0.83323334  0.55059771]\n"
     ]
    },
    {
     "name": "stderr",
     "output_type": "stream",
     "text": [
      "100%|██████████| 64/64 [00:17<00:00,  3.76it/s]\n",
      "100%|██████████| 64/64 [00:07<00:00,  8.04it/s]\n",
      "100%|██████████| 64/64 [00:02<00:00, 24.53it/s]\n"
     ]
    },
    {
     "name": "stdout",
     "output_type": "stream",
     "text": [
      "elapsed_time:34.19901967048645[sec]\n",
      "DJI_20231228115209_0043 33.40866666666667 176.53583333333333 [ 0.05044005 -0.83323929  0.55060701]\n"
     ]
    },
    {
     "name": "stderr",
     "output_type": "stream",
     "text": [
      "100%|██████████| 64/64 [00:17<00:00,  3.76it/s]\n",
      "100%|██████████| 64/64 [00:08<00:00,  7.43it/s]\n",
      "100%|██████████| 64/64 [00:02<00:00, 24.87it/s]\n"
     ]
    },
    {
     "name": "stdout",
     "output_type": "stream",
     "text": [
      "elapsed_time:34.82397246360779[sec]\n",
      "DJI_20231228115211_0044 33.409083333333335 176.54494444444444 [ 0.05030731 -0.8332433   0.55061308]\n"
     ]
    },
    {
     "name": "stderr",
     "output_type": "stream",
     "text": [
      "100%|██████████| 64/64 [00:17<00:00,  3.64it/s]\n",
      "100%|██████████| 64/64 [00:08<00:00,  7.29it/s]\n",
      "100%|██████████| 64/64 [00:02<00:00, 23.51it/s]\n"
     ]
    },
    {
     "name": "stdout",
     "output_type": "stream",
     "text": [
      "elapsed_time:35.87676453590393[sec]\n",
      "DJI_20231228115214_0045 33.40969444444444 176.5586388888889 [ 0.0501078  -0.83324944  0.55062199]\n"
     ]
    },
    {
     "name": "stderr",
     "output_type": "stream",
     "text": [
      "100%|██████████| 64/64 [00:17<00:00,  3.68it/s]\n",
      "100%|██████████| 64/64 [00:08<00:00,  7.47it/s]\n",
      "100%|██████████| 64/64 [00:02<00:00, 22.96it/s]\n"
     ]
    },
    {
     "name": "stdout",
     "output_type": "stream",
     "text": [
      "elapsed_time:35.54590392112732[sec]\n",
      "DJI_20231228115217_0046 33.410333333333334 176.57233333333332 [ 0.04990827 -0.83325527  0.5506313 ]\n"
     ]
    },
    {
     "name": "stderr",
     "output_type": "stream",
     "text": [
      "100%|██████████| 64/64 [00:17<00:00,  3.70it/s]\n",
      "100%|██████████| 64/64 [00:08<00:00,  7.86it/s]\n",
      "100%|██████████| 64/64 [00:02<00:00, 22.72it/s]\n"
     ]
    },
    {
     "name": "stdout",
     "output_type": "stream",
     "text": [
      "elapsed_time:34.83126091957092[sec]\n",
      "DJI_20231228115220_0047 33.410944444444446 176.5860277777778 [ 0.04970876 -0.83326131  0.5506402 ]\n"
     ]
    },
    {
     "name": "stderr",
     "output_type": "stream",
     "text": [
      "100%|██████████| 64/64 [00:17<00:00,  3.68it/s]\n",
      "100%|██████████| 64/64 [00:08<00:00,  7.34it/s]\n",
      "100%|██████████| 64/64 [00:02<00:00, 23.22it/s]\n"
     ]
    },
    {
     "name": "stdout",
     "output_type": "stream",
     "text": [
      "elapsed_time:35.6336464881897[sec]\n",
      "DJI_20231228115222_0048 33.41136111111111 176.59516666666667 [ 0.04957562 -0.83326523  0.55064627]\n"
     ]
    },
    {
     "name": "stderr",
     "output_type": "stream",
     "text": [
      "100%|██████████| 64/64 [00:16<00:00,  3.82it/s]\n",
      "100%|██████████| 64/64 [00:08<00:00,  7.36it/s]\n",
      "100%|██████████| 64/64 [00:02<00:00, 24.13it/s]\n"
     ]
    },
    {
     "name": "stdout",
     "output_type": "stream",
     "text": [
      "elapsed_time:34.97093343734741[sec]\n",
      "DJI_20231228115225_0049 33.41197222222222 176.60883333333334 [ 0.04937651 -0.83327117  0.55065517]\n"
     ]
    },
    {
     "name": "stderr",
     "output_type": "stream",
     "text": [
      "100%|██████████| 64/64 [00:17<00:00,  3.67it/s]\n",
      "100%|██████████| 64/64 [00:09<00:00,  7.07it/s]\n",
      "100%|██████████| 64/64 [00:02<00:00, 22.86it/s]\n"
     ]
    },
    {
     "name": "stdout",
     "output_type": "stream",
     "text": [
      "elapsed_time:36.276158809661865[sec]\n",
      "DJI_20231228115228_0050 33.41258333333333 176.62252777777778 [ 0.049177   -0.83327708  0.55066408]\n"
     ]
    },
    {
     "name": "stderr",
     "output_type": "stream",
     "text": [
      "100%|██████████| 64/64 [00:17<00:00,  3.74it/s]\n",
      "100%|██████████| 64/64 [00:08<00:00,  7.62it/s]\n",
      "100%|██████████| 64/64 [00:02<00:00, 21.92it/s]\n"
     ]
    },
    {
     "name": "stdout",
     "output_type": "stream",
     "text": [
      "elapsed_time:35.34869337081909[sec]\n",
      "DJI_20231228115231_0051 33.41319444444444 176.63622222222222 [ 0.04897749 -0.83328295  0.55067298]\n"
     ]
    },
    {
     "name": "stderr",
     "output_type": "stream",
     "text": [
      "100%|██████████| 64/64 [00:17<00:00,  3.64it/s]\n",
      "100%|██████████| 64/64 [00:07<00:00,  8.33it/s]\n",
      "100%|██████████| 64/64 [00:02<00:00, 29.47it/s]\n"
     ]
    },
    {
     "name": "stdout",
     "output_type": "stream",
     "text": [
      "elapsed_time:33.942909955978394[sec]\n",
      "DJI_20231228115233_0052 33.41361111111111 176.64533333333333 [ 0.04884475 -0.83328673  0.55067905]\n"
     ]
    },
    {
     "name": "stderr",
     "output_type": "stream",
     "text": [
      "100%|██████████| 64/64 [00:17<00:00,  3.76it/s]\n",
      "100%|██████████| 64/64 [00:05<00:00, 12.74it/s]\n",
      "100%|██████████| 64/64 [00:01<00:00, 33.18it/s]\n"
     ]
    },
    {
     "name": "stdout",
     "output_type": "stream",
     "text": [
      "elapsed_time:29.9251971244812[sec]\n",
      "DJI_20231228115236_0053 33.41422222222222 176.65905555555557 [ 0.04864483 -0.83329254  0.55068795]\n"
     ]
    },
    {
     "name": "stderr",
     "output_type": "stream",
     "text": [
      "100%|██████████| 64/64 [00:17<00:00,  3.57it/s]\n",
      "100%|██████████| 64/64 [00:03<00:00, 17.06it/s]\n",
      "100%|██████████| 64/64 [00:02<00:00, 26.61it/s]\n"
     ]
    },
    {
     "name": "stdout",
     "output_type": "stream",
     "text": [
      "elapsed_time:29.83181405067444[sec]\n",
      "DJI_20231228115238_0054 33.41461111111111 176.66816666666665 [ 0.04851211 -0.83329653  0.55069362]\n"
     ]
    },
    {
     "name": "stderr",
     "output_type": "stream",
     "text": [
      "100%|██████████| 64/64 [00:17<00:00,  3.73it/s]\n",
      "100%|██████████| 64/64 [00:03<00:00, 18.29it/s]\n",
      "100%|██████████| 64/64 [00:01<00:00, 33.68it/s]\n"
     ]
    },
    {
     "name": "stdout",
     "output_type": "stream",
     "text": [
      "elapsed_time:27.80360722541809[sec]\n",
      "DJI_20231228115240_0055 33.415 176.67733333333334 [ 0.04837857 -0.83330055  0.55069928]\n"
     ]
    },
    {
     "name": "stderr",
     "output_type": "stream",
     "text": [
      "100%|██████████| 64/64 [00:17<00:00,  3.74it/s]\n",
      "100%|██████████| 64/64 [00:02<00:00, 25.89it/s]\n",
      "100%|██████████| 64/64 [00:01<00:00, 47.37it/s]\n"
     ]
    },
    {
     "name": "stdout",
     "output_type": "stream",
     "text": [
      "elapsed_time:26.298275470733643[sec]\n",
      "DJI_20231228115242_0056 33.415388888888884 176.68647222222222 [ 0.04824544 -0.83330453  0.55070495]\n"
     ]
    },
    {
     "name": "stderr",
     "output_type": "stream",
     "text": [
      "100%|██████████| 64/64 [00:17<00:00,  3.60it/s]\n",
      "100%|██████████| 64/64 [00:03<00:00, 19.36it/s]\n",
      "100%|██████████| 64/64 [00:01<00:00, 35.37it/s]\n"
     ]
    },
    {
     "name": "stdout",
     "output_type": "stream",
     "text": [
      "elapsed_time:28.252999305725098[sec]\n",
      "DJI_20231228115243_0057 33.41558333333333 176.69105555555555 [ 0.04817867 -0.83330652  0.55070778]\n"
     ]
    },
    {
     "name": "stderr",
     "output_type": "stream",
     "text": [
      "100%|██████████| 64/64 [00:18<00:00,  3.55it/s]\n",
      "100%|██████████| 64/64 [00:03<00:00, 18.13it/s]\n",
      "100%|██████████| 64/64 [00:01<00:00, 32.73it/s]\n"
     ]
    },
    {
     "name": "stdout",
     "output_type": "stream",
     "text": [
      "elapsed_time:29.040533542633057[sec]\n",
      "DJI_20231228115246_0058 33.41619444444444 176.7048333333333 [ 0.04797795 -0.83331222  0.55071668]\n"
     ]
    },
    {
     "name": "stderr",
     "output_type": "stream",
     "text": [
      "100%|██████████| 64/64 [00:17<00:00,  3.68it/s]\n",
      "100%|██████████| 64/64 [00:04<00:00, 14.04it/s]\n",
      "100%|██████████| 64/64 [00:02<00:00, 29.62it/s]\n"
     ]
    },
    {
     "name": "stdout",
     "output_type": "stream",
     "text": [
      "elapsed_time:30.09997844696045[sec]\n",
      "DJI_20231228115249_0059 33.416805555555555 176.71858333333333 [ 0.04777763 -0.83331784  0.55072559]\n"
     ]
    },
    {
     "name": "stderr",
     "output_type": "stream",
     "text": [
      "100%|██████████| 64/64 [00:17<00:00,  3.64it/s]\n",
      "100%|██████████| 64/64 [00:06<00:00,  9.27it/s]\n",
      "100%|██████████| 64/64 [00:02<00:00, 29.95it/s]\n"
     ]
    },
    {
     "name": "stdout",
     "output_type": "stream",
     "text": [
      "elapsed_time:33.09396171569824[sec]\n",
      "DJI_20231228115251_0060 33.41719444444444 176.7277777777778 [ 0.04764369 -0.83332177  0.55073125]\n"
     ]
    },
    {
     "name": "stderr",
     "output_type": "stream",
     "text": [
      "100%|██████████| 64/64 [00:17<00:00,  3.76it/s]\n",
      "100%|██████████| 64/64 [00:07<00:00,  8.22it/s]\n",
      "100%|██████████| 64/64 [00:02<00:00, 23.94it/s]\n"
     ]
    },
    {
     "name": "stdout",
     "output_type": "stream",
     "text": [
      "elapsed_time:34.05968379974365[sec]\n",
      "DJI_20231228115254_0061 33.41780555555555 176.74152777777778 [ 0.04744337 -0.83332731  0.55074016]\n"
     ]
    },
    {
     "name": "stderr",
     "output_type": "stream",
     "text": [
      "100%|██████████| 64/64 [00:17<00:00,  3.68it/s]\n",
      "100%|██████████| 64/64 [00:09<00:00,  6.70it/s]\n",
      "100%|██████████| 64/64 [00:02<00:00, 23.77it/s]\n"
     ]
    },
    {
     "name": "stdout",
     "output_type": "stream",
     "text": [
      "elapsed_time:36.56131720542908[sec]\n",
      "DJI_20231228115257_0062 33.418388888888884 176.75530555555557 [ 0.04724267 -0.8333331   0.55074865]\n"
     ]
    },
    {
     "name": "stderr",
     "output_type": "stream",
     "text": [
      "100%|██████████| 64/64 [00:17<00:00,  3.67it/s]\n",
      "100%|██████████| 64/64 [00:08<00:00,  7.41it/s]\n",
      "100%|██████████| 64/64 [00:02<00:00, 23.00it/s]\n"
     ]
    },
    {
     "name": "stdout",
     "output_type": "stream",
     "text": [
      "elapsed_time:35.66913914680481[sec]\n",
      "DJI_20231228115300_0063 33.419 176.76905555555558 [ 0.04704235 -0.83333855  0.55075756]\n"
     ]
    },
    {
     "name": "stderr",
     "output_type": "stream",
     "text": [
      "100%|██████████| 64/64 [00:16<00:00,  3.77it/s]\n",
      "100%|██████████| 64/64 [00:08<00:00,  7.83it/s]\n",
      "100%|██████████| 64/64 [00:02<00:00, 22.06it/s]\n"
     ]
    },
    {
     "name": "stdout",
     "output_type": "stream",
     "text": [
      "elapsed_time:34.832478523254395[sec]\n",
      "DJI_20231228115302_0064 33.41938888888889 176.77822222222224 [ 0.04690881 -0.83334233  0.55076322]\n"
     ]
    },
    {
     "name": "stderr",
     "output_type": "stream",
     "text": [
      "100%|██████████| 64/64 [00:17<00:00,  3.66it/s]\n",
      "100%|██████████| 64/64 [00:07<00:00,  8.02it/s]\n",
      "100%|██████████| 64/64 [00:03<00:00, 20.36it/s]\n"
     ]
    },
    {
     "name": "stdout",
     "output_type": "stream",
     "text": [
      "elapsed_time:36.6183021068573[sec]\n",
      "DJI_20231228115305_0065 33.41997222222222 176.792 [ 0.04670811 -0.83334799  0.55077172]\n"
     ]
    },
    {
     "name": "stderr",
     "output_type": "stream",
     "text": [
      "100%|██████████| 64/64 [00:17<00:00,  3.76it/s]\n",
      "100%|██████████| 64/64 [00:07<00:00,  8.11it/s]\n",
      "100%|██████████| 64/64 [00:02<00:00, 22.21it/s]\n"
     ]
    },
    {
     "name": "stdout",
     "output_type": "stream",
     "text": [
      "elapsed_time:43.17678499221802[sec]\n",
      "DJI_20231228115308_0066 33.42058333333333 176.80575000000002 [ 0.04650779 -0.83335331  0.55078062]\n"
     ]
    },
    {
     "name": "stderr",
     "output_type": "stream",
     "text": [
      "100%|██████████| 64/64 [00:17<00:00,  3.74it/s]\n",
      "100%|██████████| 64/64 [00:08<00:00,  7.96it/s]\n",
      "100%|██████████| 64/64 [00:02<00:00, 21.98it/s]\n"
     ]
    },
    {
     "name": "stdout",
     "output_type": "stream",
     "text": [
      "elapsed_time:43.509363889694214[sec]\n",
      "DJI_20231228115311_0067 33.421166666666664 176.8195 [ 0.04630749 -0.83335884  0.55078912]\n"
     ]
    },
    {
     "name": "stderr",
     "output_type": "stream",
     "text": [
      "100%|██████████| 64/64 [00:17<00:00,  3.65it/s]\n",
      "100%|██████████| 64/64 [00:07<00:00,  8.11it/s]\n",
      "100%|██████████| 64/64 [00:02<00:00, 23.70it/s]\n"
     ]
    },
    {
     "name": "stdout",
     "output_type": "stream",
     "text": [
      "elapsed_time:43.41418099403381[sec]\n",
      "DJI_20231228115313_0068 33.42155555555555 176.82869444444444 [ 0.04617355 -0.83336253  0.55079478]\n"
     ]
    },
    {
     "name": "stderr",
     "output_type": "stream",
     "text": [
      "100%|██████████| 64/64 [00:17<00:00,  3.65it/s]\n",
      "100%|██████████| 64/64 [00:08<00:00,  7.66it/s]\n",
      "100%|██████████| 64/64 [00:02<00:00, 25.31it/s]\n"
     ]
    },
    {
     "name": "stdout",
     "output_type": "stream",
     "text": [
      "elapsed_time:43.81192874908447[sec]\n",
      "DJI_20231228115316_0069 33.42213888888889 176.84247222222223 [ 0.04597284 -0.83336801  0.55080328]\n"
     ]
    },
    {
     "name": "stderr",
     "output_type": "stream",
     "text": [
      "100%|██████████| 64/64 [00:17<00:00,  3.69it/s]\n",
      "100%|██████████| 64/64 [00:07<00:00,  8.41it/s]\n",
      "100%|██████████| 64/64 [00:02<00:00, 23.85it/s]\n"
     ]
    },
    {
     "name": "stdout",
     "output_type": "stream",
     "text": [
      "elapsed_time:42.780635595321655[sec]\n",
      "DJI_20231228115319_0070 33.422694444444446 176.85622222222221 [ 0.04577255 -0.83337369  0.55081137]\n"
     ]
    },
    {
     "name": "stderr",
     "output_type": "stream",
     "text": [
      "100%|██████████| 64/64 [00:17<00:00,  3.70it/s]\n",
      "100%|██████████| 64/64 [00:07<00:00,  8.30it/s]\n",
      "100%|██████████| 64/64 [00:02<00:00, 27.17it/s]\n"
     ]
    },
    {
     "name": "stdout",
     "output_type": "stream",
     "text": [
      "elapsed_time:42.74134302139282[sec]\n",
      "DJI_20231228115322_0071 33.42327777777778 176.87 [ 0.04557185 -0.83337907  0.55081987]\n"
     ]
    },
    {
     "name": "stderr",
     "output_type": "stream",
     "text": [
      "100%|██████████| 64/64 [00:17<00:00,  3.66it/s]\n",
      "100%|██████████| 64/64 [00:07<00:00,  8.92it/s]\n",
      "100%|██████████| 64/64 [00:02<00:00, 27.05it/s]\n"
     ]
    },
    {
     "name": "stdout",
     "output_type": "stream",
     "text": [
      "elapsed_time:38.697389125823975[sec]\n",
      "DJI_20231228115324_0072 33.42366666666666 176.87919444444447 [ 0.04543791 -0.83338264  0.55082554]\n"
     ]
    },
    {
     "name": "stderr",
     "output_type": "stream",
     "text": [
      "100%|██████████| 64/64 [00:17<00:00,  3.75it/s]\n",
      "100%|██████████| 64/64 [00:08<00:00,  7.98it/s]\n",
      "100%|██████████| 64/64 [00:02<00:00, 29.51it/s]\n"
     ]
    },
    {
     "name": "stdout",
     "output_type": "stream",
     "text": [
      "elapsed_time:33.72754716873169[sec]\n",
      "DJI_20231228115327_0073 33.42422222222222 176.89294444444442 [ 0.04523762 -0.83338819  0.55083363]\n"
     ]
    },
    {
     "name": "stderr",
     "output_type": "stream",
     "text": [
      "100%|██████████| 64/64 [00:16<00:00,  3.81it/s]\n",
      "100%|██████████| 64/64 [00:06<00:00,  9.21it/s]\n",
      "100%|██████████| 64/64 [00:02<00:00, 31.32it/s]\n"
     ]
    },
    {
     "name": "stdout",
     "output_type": "stream",
     "text": [
      "elapsed_time:32.07350206375122[sec]\n",
      "DJI_20231228115328_0074 33.424416666666666 176.89752777777778 [ 0.04517085 -0.83338994  0.55083646]\n"
     ]
    },
    {
     "name": "stderr",
     "output_type": "stream",
     "text": [
      "100%|██████████| 64/64 [00:16<00:00,  3.84it/s]\n",
      "100%|██████████| 64/64 [00:05<00:00, 11.51it/s]\n",
      "100%|██████████| 64/64 [00:02<00:00, 28.65it/s]\n"
     ]
    },
    {
     "name": "stdout",
     "output_type": "stream",
     "text": [
      "elapsed_time:30.540087461471558[sec]\n",
      "DJI_20231228115330_0075 33.42477777777778 176.90666666666667 [ 0.04503773 -0.83339366  0.55084172]\n"
     ]
    },
    {
     "name": "stderr",
     "output_type": "stream",
     "text": [
      "100%|██████████| 64/64 [00:16<00:00,  3.82it/s]\n",
      "100%|██████████| 64/64 [00:06<00:00,  9.61it/s]\n",
      "100%|██████████| 64/64 [00:02<00:00, 22.80it/s]\n"
     ]
    },
    {
     "name": "stdout",
     "output_type": "stream",
     "text": [
      "elapsed_time:32.5313925743103[sec]\n",
      "DJI_20231228115331_0076 33.42494444444444 176.91122222222222 [ 0.04497138 -0.83339564  0.55084415]\n"
     ]
    },
    {
     "name": "stderr",
     "output_type": "stream",
     "text": [
      "100%|██████████| 64/64 [00:16<00:00,  3.83it/s]\n",
      "100%|██████████| 64/64 [00:07<00:00,  8.59it/s]\n",
      "100%|██████████| 64/64 [00:02<00:00, 28.03it/s]\n"
     ]
    },
    {
     "name": "stdout",
     "output_type": "stream",
     "text": [
      "elapsed_time:32.813695192337036[sec]\n",
      "DJI_20231228115334_0077 33.42552777777777 176.92491666666666 [ 0.04477189 -0.83340077  0.55085265]\n"
     ]
    },
    {
     "name": "stderr",
     "output_type": "stream",
     "text": [
      "100%|██████████| 64/64 [00:17<00:00,  3.70it/s]\n",
      "100%|██████████| 64/64 [00:08<00:00,  7.61it/s]\n",
      "100%|██████████| 64/64 [00:02<00:00, 29.16it/s]\n"
     ]
    },
    {
     "name": "stdout",
     "output_type": "stream",
     "text": [
      "elapsed_time:34.22277641296387[sec]\n",
      "DJI_20231228115337_0078 33.42608333333333 176.93861111111113 [ 0.04457241 -0.83340611  0.55086074]\n"
     ]
    },
    {
     "name": "stderr",
     "output_type": "stream",
     "text": [
      "100%|██████████| 64/64 [00:17<00:00,  3.73it/s]\n",
      "100%|██████████| 64/64 [00:07<00:00,  8.41it/s]\n",
      "100%|██████████| 64/64 [00:02<00:00, 25.97it/s]\n"
     ]
    },
    {
     "name": "stdout",
     "output_type": "stream",
     "text": [
      "elapsed_time:33.71040630340576[sec]\n",
      "DJI_20231228115339_0079 33.42644444444444 176.94775 [ 0.04443929 -0.83340974  0.550866  ]\n"
     ]
    },
    {
     "name": "stderr",
     "output_type": "stream",
     "text": [
      "100%|██████████| 64/64 [00:17<00:00,  3.75it/s]\n",
      "100%|██████████| 64/64 [00:07<00:00,  8.44it/s]\n",
      "100%|██████████| 64/64 [00:02<00:00, 24.27it/s]\n"
     ]
    },
    {
     "name": "stdout",
     "output_type": "stream",
     "text": [
      "elapsed_time:33.827101945877075[sec]\n",
      "DJI_20231228115342_0080 33.427 176.96144444444442 [ 0.04423981 -0.83341501  0.55087409]\n"
     ]
    },
    {
     "name": "stderr",
     "output_type": "stream",
     "text": [
      "100%|██████████| 64/64 [00:17<00:00,  3.72it/s]\n",
      "100%|██████████| 64/64 [00:07<00:00,  8.17it/s]\n",
      "100%|██████████| 64/64 [00:02<00:00, 25.30it/s]\n"
     ]
    },
    {
     "name": "stdout",
     "output_type": "stream",
     "text": [
      "elapsed_time:34.096017360687256[sec]\n",
      "DJI_20231228115345_0081 33.42755555555555 176.9751388888889 [ 0.04404033 -0.83342022  0.55088218]\n"
     ]
    },
    {
     "name": "stderr",
     "output_type": "stream",
     "text": [
      "100%|██████████| 64/64 [00:17<00:00,  3.73it/s]\n",
      "100%|██████████| 64/64 [00:08<00:00,  7.66it/s]\n",
      "100%|██████████| 64/64 [00:02<00:00, 22.60it/s]\n"
     ]
    },
    {
     "name": "stdout",
     "output_type": "stream",
     "text": [
      "elapsed_time:34.993324279785156[sec]\n",
      "DJI_20231228115348_0082 33.42808333333333 176.9888611111111 [ 0.04384046 -0.83342568  0.55088987]\n"
     ]
    },
    {
     "name": "stderr",
     "output_type": "stream",
     "text": [
      "100%|██████████| 64/64 [00:17<00:00,  3.71it/s]\n",
      "100%|██████████| 64/64 [00:08<00:00,  7.43it/s]\n",
      "100%|██████████| 64/64 [00:02<00:00, 23.94it/s]\n"
     ]
    },
    {
     "name": "stdout",
     "output_type": "stream",
     "text": [
      "elapsed_time:35.38547325134277[sec]\n",
      "DJI_20231228115350_0083 33.42847222222222 176.99797222222222 [ 0.04370774 -0.83342891  0.55089554]\n"
     ]
    },
    {
     "name": "stderr",
     "output_type": "stream",
     "text": [
      "100%|██████████| 64/64 [00:17<00:00,  3.75it/s]\n",
      "100%|██████████| 64/64 [00:08<00:00,  7.81it/s]\n",
      "100%|██████████| 64/64 [00:02<00:00, 21.97it/s]\n"
     ]
    },
    {
     "name": "stdout",
     "output_type": "stream",
     "text": [
      "elapsed_time:34.994643211364746[sec]\n",
      "DJI_20231228115353_0084 33.428999999999995 177.01166666666666 [ 0.04350827 -0.83343426  0.55090322]\n"
     ]
    },
    {
     "name": "stderr",
     "output_type": "stream",
     "text": [
      "100%|██████████| 64/64 [00:16<00:00,  3.79it/s]\n",
      "100%|██████████| 64/64 [00:09<00:00,  6.76it/s]\n",
      "100%|██████████| 64/64 [00:02<00:00, 23.92it/s]\n"
     ]
    },
    {
     "name": "stdout",
     "output_type": "stream",
     "text": [
      "elapsed_time:35.62869930267334[sec]\n",
      "DJI_20231228115356_0085 33.42955555555555 177.02536111111112 [ 0.04330879 -0.8334393   0.55091132]\n"
     ]
    },
    {
     "name": "stderr",
     "output_type": "stream",
     "text": [
      "100%|██████████| 64/64 [00:17<00:00,  3.72it/s]\n",
      "100%|██████████| 64/64 [00:08<00:00,  7.75it/s]\n",
      "100%|██████████| 64/64 [00:02<00:00, 22.03it/s]\n"
     ]
    },
    {
     "name": "stdout",
     "output_type": "stream",
     "text": [
      "elapsed_time:35.066500425338745[sec]\n",
      "DJI_20231228115359_0086 33.43008333333333 177.03905555555556 [ 0.04310932 -0.83344456  0.550919  ]\n"
     ]
    },
    {
     "name": "stderr",
     "output_type": "stream",
     "text": [
      "100%|██████████| 64/64 [00:17<00:00,  3.70it/s]\n",
      "100%|██████████| 64/64 [00:08<00:00,  7.61it/s]\n",
      "100%|██████████| 64/64 [00:02<00:00, 22.62it/s]\n"
     ]
    },
    {
     "name": "stdout",
     "output_type": "stream",
     "text": [
      "elapsed_time:35.40587139129639[sec]\n",
      "DJI_20231228115401_0087 33.43044444444444 177.04819444444445 [ 0.04297621 -0.83344796  0.55092426]\n"
     ]
    },
    {
     "name": "stderr",
     "output_type": "stream",
     "text": [
      "100%|██████████| 64/64 [00:17<00:00,  3.72it/s]\n",
      "100%|██████████| 64/64 [00:09<00:00,  7.06it/s]\n",
      "100%|██████████| 64/64 [00:02<00:00, 23.30it/s]\n"
     ]
    },
    {
     "name": "stdout",
     "output_type": "stream",
     "text": [
      "elapsed_time:35.963210582733154[sec]\n",
      "DJI_20231228115404_0088 33.430972222222216 177.0618888888889 [ 0.04277674 -0.83345314  0.55093195]\n"
     ]
    },
    {
     "name": "stderr",
     "output_type": "stream",
     "text": [
      "100%|██████████| 64/64 [00:17<00:00,  3.75it/s]\n",
      "100%|██████████| 64/64 [00:08<00:00,  7.44it/s]\n",
      "100%|██████████| 64/64 [00:02<00:00, 24.58it/s]\n"
     ]
    },
    {
     "name": "stdout",
     "output_type": "stream",
     "text": [
      "elapsed_time:35.021584272384644[sec]\n",
      "DJI_20231228115407_0089 33.4315 177.07558333333333 [ 0.04257727 -0.83345827  0.55093964]\n"
     ]
    },
    {
     "name": "stderr",
     "output_type": "stream",
     "text": [
      "100%|██████████| 64/64 [00:17<00:00,  3.71it/s]\n",
      "100%|██████████| 64/64 [00:08<00:00,  7.90it/s]\n",
      "100%|██████████| 64/64 [00:02<00:00, 29.95it/s]\n"
     ]
    },
    {
     "name": "stdout",
     "output_type": "stream",
     "text": [
      "elapsed_time:33.78944945335388[sec]\n",
      "DJI_20231228115410_0090 33.432027777777776 177.08930555555557 [ 0.0423774  -0.83346338  0.55094733]\n"
     ]
    },
    {
     "name": "stderr",
     "output_type": "stream",
     "text": [
      "100%|██████████| 64/64 [00:17<00:00,  3.75it/s]\n",
      "100%|██████████| 64/64 [00:05<00:00, 11.32it/s]\n",
      "100%|██████████| 64/64 [00:02<00:00, 30.69it/s]\n"
     ]
    },
    {
     "name": "stdout",
     "output_type": "stream",
     "text": [
      "elapsed_time:30.926311016082764[sec]\n",
      "DJI_20231228115412_0091 33.43238888888889 177.09841666666668 [ 0.04224469 -0.83346664  0.55095259]\n"
     ]
    },
    {
     "name": "stderr",
     "output_type": "stream",
     "text": [
      "100%|██████████| 64/64 [00:16<00:00,  3.77it/s]\n",
      "100%|██████████| 64/64 [00:03<00:00, 17.63it/s]\n",
      "100%|██████████| 64/64 [00:02<00:00, 26.95it/s]\n"
     ]
    },
    {
     "name": "stdout",
     "output_type": "stream",
     "text": [
      "elapsed_time:28.642531633377075[sec]\n",
      "DJI_20231228115415_0092 33.432916666666664 177.1121388888889 [ 0.04204482 -0.83347166  0.55096027]\n"
     ]
    },
    {
     "name": "stderr",
     "output_type": "stream",
     "text": [
      "100%|██████████| 64/64 [00:16<00:00,  3.80it/s]\n",
      "100%|██████████| 64/64 [00:03<00:00, 18.33it/s]\n",
      "100%|██████████| 64/64 [00:01<00:00, 38.05it/s]\n"
     ]
    },
    {
     "name": "stdout",
     "output_type": "stream",
     "text": [
      "elapsed_time:27.330573558807373[sec]\n",
      "DJI_20231228115416_0093 33.43308333333333 177.11672222222222 [ 0.04197807 -0.83347342  0.5509627 ]\n"
     ]
    },
    {
     "name": "stderr",
     "output_type": "stream",
     "text": [
      "100%|██████████| 64/64 [00:16<00:00,  3.83it/s]\n",
      "100%|██████████| 64/64 [00:02<00:00, 24.41it/s]\n",
      "100%|██████████| 64/64 [00:01<00:00, 43.72it/s]\n"
     ]
    },
    {
     "name": "stdout",
     "output_type": "stream",
     "text": [
      "elapsed_time:25.8655846118927[sec]\n",
      "DJI_20231228115418_0094 33.433416666666666 177.1258888888889 [ 0.04184456 -0.83347693  0.55096756]\n"
     ]
    },
    {
     "name": "stderr",
     "output_type": "stream",
     "text": [
      "100%|██████████| 64/64 [00:16<00:00,  3.77it/s]\n",
      "100%|██████████| 64/64 [00:03<00:00, 18.15it/s]\n",
      "100%|██████████| 64/64 [00:01<00:00, 35.18it/s]\n"
     ]
    },
    {
     "name": "stdout",
     "output_type": "stream",
     "text": [
      "elapsed_time:27.464836597442627[sec]\n",
      "DJI_20231228115419_0095 33.43358333333333 177.13047222222224 [ 0.0417778  -0.83347867  0.55096998]\n"
     ]
    },
    {
     "name": "stderr",
     "output_type": "stream",
     "text": [
      "100%|██████████| 64/64 [00:18<00:00,  3.55it/s]\n",
      "100%|██████████| 64/64 [00:03<00:00, 16.06it/s]\n",
      "100%|██████████| 64/64 [00:01<00:00, 34.66it/s]\n"
     ]
    },
    {
     "name": "stdout",
     "output_type": "stream",
     "text": [
      "elapsed_time:29.338122367858887[sec]\n",
      "DJI_20231228115422_0096 33.43411111111111 177.14422222222223 [ 0.04157753 -0.8334836   0.55097767]\n"
     ]
    },
    {
     "name": "stderr",
     "output_type": "stream",
     "text": [
      "100%|██████████| 64/64 [00:17<00:00,  3.75it/s]\n",
      "100%|██████████| 64/64 [00:04<00:00, 13.49it/s]\n",
      "100%|██████████| 64/64 [00:02<00:00, 29.13it/s]\n"
     ]
    },
    {
     "name": "stdout",
     "output_type": "stream",
     "text": [
      "elapsed_time:29.812530994415283[sec]\n",
      "DJI_20231228115425_0097 33.434638888888884 177.15800000000002 [ 0.04137685 -0.83348851  0.55098536]\n"
     ]
    },
    {
     "name": "stderr",
     "output_type": "stream",
     "text": [
      "100%|██████████| 64/64 [00:17<00:00,  3.64it/s]\n",
      "100%|██████████| 64/64 [00:07<00:00,  8.19it/s]\n",
      "100%|██████████| 64/64 [00:02<00:00, 26.91it/s]\n"
     ]
    },
    {
     "name": "stdout",
     "output_type": "stream",
     "text": [
      "elapsed_time:33.979814767837524[sec]\n",
      "DJI_20231228115428_0098 33.435138888888886 177.17175 [ 0.04117659 -0.83349361  0.55099264]\n"
     ]
    },
    {
     "name": "stderr",
     "output_type": "stream",
     "text": [
      "100%|██████████| 64/64 [00:17<00:00,  3.66it/s]\n",
      "100%|██████████| 64/64 [00:07<00:00,  8.44it/s]\n",
      "100%|██████████| 64/64 [00:02<00:00, 26.93it/s]\n"
     ]
    },
    {
     "name": "stdout",
     "output_type": "stream",
     "text": [
      "elapsed_time:34.02402114868164[sec]\n",
      "DJI_20231228115430_0099 33.4355 177.18094444444444 [ 0.04104267 -0.83349674  0.5509979 ]\n"
     ]
    },
    {
     "name": "stderr",
     "output_type": "stream",
     "text": [
      "100%|██████████| 64/64 [00:17<00:00,  3.70it/s]\n",
      "100%|██████████| 64/64 [00:08<00:00,  7.37it/s]\n",
      "100%|██████████| 64/64 [00:02<00:00, 24.59it/s]\n"
     ]
    },
    {
     "name": "stdout",
     "output_type": "stream",
     "text": [
      "elapsed_time:35.36215686798096[sec]\n",
      "DJI_20231228115433_0100 33.436027777777774 177.19472222222223 [ 0.04084199 -0.83350152  0.55100559]\n"
     ]
    },
    {
     "name": "stderr",
     "output_type": "stream",
     "text": [
      "100%|██████████| 64/64 [00:17<00:00,  3.69it/s]\n",
      "100%|██████████| 64/64 [00:08<00:00,  7.59it/s]\n",
      "100%|██████████| 64/64 [00:02<00:00, 23.80it/s]\n"
     ]
    },
    {
     "name": "stdout",
     "output_type": "stream",
     "text": [
      "elapsed_time:35.468268394470215[sec]\n",
      "DJI_20231228115436_0101 33.436527777777776 177.2085 [ 0.04064132 -0.83350651  0.55101287]\n"
     ]
    },
    {
     "name": "stderr",
     "output_type": "stream",
     "text": [
      "100%|██████████| 64/64 [00:17<00:00,  3.73it/s]\n",
      "100%|██████████| 64/64 [00:08<00:00,  7.67it/s]\n",
      "100%|██████████| 64/64 [00:02<00:00, 22.14it/s]\n"
     ]
    },
    {
     "name": "stdout",
     "output_type": "stream",
     "text": [
      "elapsed_time:35.125125885009766[sec]\n",
      "DJI_20231228115439_0102 33.43702777777777 177.22225 [ 0.04044106 -0.83351144  0.55102015]\n"
     ]
    },
    {
     "name": "stderr",
     "output_type": "stream",
     "text": [
      "100%|██████████| 64/64 [00:17<00:00,  3.72it/s]\n",
      "100%|██████████| 64/64 [00:07<00:00,  8.16it/s]\n",
      "100%|██████████| 64/64 [00:02<00:00, 22.53it/s]\n"
     ]
    },
    {
     "name": "stdout",
     "output_type": "stream",
     "text": [
      "elapsed_time:34.61350750923157[sec]\n",
      "DJI_20231228115441_0103 33.43738888888888 177.23144444444443 [ 0.04030714 -0.83351445  0.55102541]\n"
     ]
    },
    {
     "name": "stderr",
     "output_type": "stream",
     "text": [
      "100%|██████████| 64/64 [00:17<00:00,  3.72it/s]\n",
      "100%|██████████| 64/64 [00:08<00:00,  7.89it/s]\n",
      "100%|██████████| 64/64 [00:02<00:00, 23.17it/s]\n"
     ]
    },
    {
     "name": "stdout",
     "output_type": "stream",
     "text": [
      "elapsed_time:34.838138818740845[sec]\n",
      "DJI_20231228115444_0104 33.437888888888885 177.2452222222222 [ 0.04010647 -0.83351931  0.55103269]\n"
     ]
    },
    {
     "name": "stderr",
     "output_type": "stream",
     "text": [
      "100%|██████████| 64/64 [00:17<00:00,  3.67it/s]\n",
      "100%|██████████| 64/64 [00:08<00:00,  7.76it/s]\n",
      "100%|██████████| 64/64 [00:02<00:00, 24.93it/s]\n"
     ]
    },
    {
     "name": "stdout",
     "output_type": "stream",
     "text": [
      "elapsed_time:34.9440541267395[sec]\n",
      "DJI_20231228115447_0105 33.43838888888889 177.2589722222222 [ 0.03990621 -0.83352411  0.55103997]\n"
     ]
    },
    {
     "name": "stderr",
     "output_type": "stream",
     "text": [
      "100%|██████████| 64/64 [00:16<00:00,  3.79it/s]\n",
      "100%|██████████| 64/64 [00:08<00:00,  8.00it/s]\n",
      "100%|██████████| 64/64 [00:02<00:00, 25.07it/s]\n"
     ]
    },
    {
     "name": "stdout",
     "output_type": "stream",
     "text": [
      "elapsed_time:33.99496579170227[sec]\n",
      "DJI_20231228115449_0106 33.43872222222222 177.26816666666667 [ 0.0397723  -0.8335273   0.55104483]\n"
     ]
    },
    {
     "name": "stderr",
     "output_type": "stream",
     "text": [
      "100%|██████████| 64/64 [00:17<00:00,  3.74it/s]\n",
      "100%|██████████| 64/64 [00:07<00:00,  8.14it/s]\n",
      "100%|██████████| 64/64 [00:02<00:00, 23.65it/s]\n"
     ]
    },
    {
     "name": "stdout",
     "output_type": "stream",
     "text": [
      "elapsed_time:34.18225932121277[sec]\n",
      "DJI_20231228115452_0107 33.43922222222222 177.28194444444446 [ 0.03957163 -0.83353204  0.55105211]\n"
     ]
    },
    {
     "name": "stderr",
     "output_type": "stream",
     "text": [
      "100%|██████████| 64/64 [00:17<00:00,  3.74it/s]\n",
      "100%|██████████| 64/64 [00:07<00:00,  8.48it/s]\n",
      "100%|██████████| 64/64 [00:02<00:00, 24.43it/s]\n"
     ]
    },
    {
     "name": "stdout",
     "output_type": "stream",
     "text": [
      "elapsed_time:33.88573360443115[sec]\n",
      "DJI_20231228115455_0108 33.439722222222215 177.29572222222222 [ 0.03937097 -0.83353672  0.55105939]\n"
     ]
    },
    {
     "name": "stderr",
     "output_type": "stream",
     "text": [
      "100%|██████████| 64/64 [00:17<00:00,  3.69it/s]\n",
      "100%|██████████| 64/64 [00:07<00:00,  8.52it/s]\n",
      "100%|██████████| 64/64 [00:02<00:00, 22.75it/s]\n"
     ]
    },
    {
     "name": "stdout",
     "output_type": "stream",
     "text": [
      "elapsed_time:34.18271470069885[sec]\n",
      "DJI_20231228115458_0109 33.44022222222222 177.30947222222224 [ 0.0391707  -0.83354135  0.55106668]\n"
     ]
    },
    {
     "name": "stderr",
     "output_type": "stream",
     "text": [
      "100%|██████████| 64/64 [00:17<00:00,  3.75it/s]\n",
      "100%|██████████| 64/64 [00:07<00:00,  8.48it/s]\n",
      "100%|██████████| 64/64 [00:02<00:00, 29.40it/s]\n"
     ]
    },
    {
     "name": "stdout",
     "output_type": "stream",
     "text": [
      "elapsed_time:33.1157546043396[sec]\n",
      "DJI_20231228115500_0110 33.440555555555555 177.31866666666667 [ 0.03903679 -0.83354442  0.55107153]\n"
     ]
    },
    {
     "name": "stderr",
     "output_type": "stream",
     "text": [
      "100%|██████████| 64/64 [00:17<00:00,  3.70it/s]\n",
      "100%|██████████| 64/64 [00:08<00:00,  7.91it/s]\n",
      "100%|██████████| 64/64 [00:02<00:00, 27.35it/s]\n"
     ]
    },
    {
     "name": "stdout",
     "output_type": "stream",
     "text": [
      "elapsed_time:34.264506578445435[sec]\n",
      "DJI_20231228115503_0111 33.44105555555555 177.33244444444443 [ 0.03883613 -0.83354898  0.55107881]\n"
     ]
    },
    {
     "name": "stderr",
     "output_type": "stream",
     "text": [
      "100%|██████████| 64/64 [00:16<00:00,  3.79it/s]\n",
      "100%|██████████| 64/64 [00:08<00:00,  7.38it/s]\n",
      "100%|██████████| 64/64 [00:02<00:00, 26.04it/s]\n"
     ]
    },
    {
     "name": "stdout",
     "output_type": "stream",
     "text": [
      "elapsed_time:34.34014391899109[sec]\n",
      "DJI_20231228115504_0112 33.44119444444444 177.3370277777778 [ 0.03876939 -0.83355075  0.55108084]\n"
     ]
    },
    {
     "name": "stderr",
     "output_type": "stream",
     "text": [
      "100%|██████████| 64/64 [00:16<00:00,  3.87it/s]\n",
      "100%|██████████| 64/64 [00:06<00:00,  9.53it/s]\n",
      "100%|██████████| 64/64 [00:02<00:00, 28.64it/s]\n"
     ]
    },
    {
     "name": "stdout",
     "output_type": "stream",
     "text": [
      "elapsed_time:31.459065914154053[sec]\n",
      "DJI_20231228115507_0113 33.44166666666666 177.35075 [ 0.03856954 -0.83355547  0.55108771]\n"
     ]
    },
    {
     "name": "stderr",
     "output_type": "stream",
     "text": [
      "100%|██████████| 64/64 [00:16<00:00,  3.84it/s]\n",
      "100%|██████████| 64/64 [00:06<00:00, 10.58it/s]\n",
      "100%|██████████| 64/64 [00:02<00:00, 30.02it/s]\n"
     ]
    },
    {
     "name": "stdout",
     "output_type": "stream",
     "text": [
      "elapsed_time:30.98699116706848[sec]\n",
      "DJI_20231228115508_0114 33.441805555555554 177.35530555555556 [ 0.0385032  -0.8335572   0.55108974]\n"
     ]
    },
    {
     "name": "stderr",
     "output_type": "stream",
     "text": [
      "100%|██████████| 64/64 [00:16<00:00,  3.78it/s]\n",
      "100%|██████████| 64/64 [00:08<00:00,  7.85it/s]\n",
      "100%|██████████| 64/64 [00:02<00:00, 27.87it/s]\n"
     ]
    },
    {
     "name": "stdout",
     "output_type": "stream",
     "text": [
      "elapsed_time:33.570783853530884[sec]\n",
      "DJI_20231228115510_0115 33.442138888888884 177.36444444444444 [ 0.0383701  -0.83356013  0.55109459]\n"
     ]
    },
    {
     "name": "stderr",
     "output_type": "stream",
     "text": [
      "100%|██████████| 64/64 [00:17<00:00,  3.72it/s]\n",
      "100%|██████████| 64/64 [00:08<00:00,  7.72it/s]\n",
      "100%|██████████| 64/64 [00:02<00:00, 29.41it/s]\n"
     ]
    },
    {
     "name": "stdout",
     "output_type": "stream",
     "text": [
      "elapsed_time:34.098682165145874[sec]\n",
      "DJI_20231228115513_0116 33.442611111111106 177.37813888888888 [ 0.03817066 -0.83356474  0.55110147]\n"
     ]
    },
    {
     "name": "stderr",
     "output_type": "stream",
     "text": [
      "100%|██████████| 64/64 [00:17<00:00,  3.69it/s]\n",
      "100%|██████████| 64/64 [00:07<00:00,  8.13it/s]\n",
      "100%|██████████| 64/64 [00:02<00:00, 28.95it/s]\n"
     ]
    },
    {
     "name": "stdout",
     "output_type": "stream",
     "text": [
      "elapsed_time:33.927170753479004[sec]\n",
      "DJI_20231228115516_0117 33.44308333333333 177.3918611111111 [ 0.03797082 -0.83356932  0.55110834]\n"
     ]
    },
    {
     "name": "stderr",
     "output_type": "stream",
     "text": [
      "100%|██████████| 64/64 [00:17<00:00,  3.66it/s]\n",
      "100%|██████████| 64/64 [00:07<00:00,  8.38it/s]\n",
      "100%|██████████| 64/64 [00:02<00:00, 25.84it/s]\n"
     ]
    },
    {
     "name": "stdout",
     "output_type": "stream",
     "text": [
      "elapsed_time:33.94323682785034[sec]\n",
      "DJI_20231228115519_0118 33.443555555555555 177.40555555555557 [ 0.03777137 -0.83357383  0.55111522]\n"
     ]
    },
    {
     "name": "stderr",
     "output_type": "stream",
     "text": [
      "100%|██████████| 64/64 [00:17<00:00,  3.70it/s]\n",
      "100%|██████████| 64/64 [00:07<00:00,  8.27it/s]\n",
      "100%|██████████| 64/64 [00:02<00:00, 23.35it/s]\n"
     ]
    },
    {
     "name": "stdout",
     "output_type": "stream",
     "text": [
      "elapsed_time:34.17044925689697[sec]\n",
      "DJI_20231228115521_0119 33.443888888888885 177.41469444444445 [ 0.03763827 -0.83357664  0.55112008]\n"
     ]
    },
    {
     "name": "stderr",
     "output_type": "stream",
     "text": [
      "100%|██████████| 64/64 [00:17<00:00,  3.70it/s]\n",
      "100%|██████████| 64/64 [00:07<00:00,  8.30it/s]\n",
      "100%|██████████| 64/64 [00:02<00:00, 24.93it/s]\n"
     ]
    },
    {
     "name": "stdout",
     "output_type": "stream",
     "text": [
      "elapsed_time:34.17862057685852[sec]\n",
      "DJI_20231228115524_0120 33.44433333333333 177.4283888888889 [ 0.03743884 -0.83358135  0.55112655]\n"
     ]
    },
    {
     "name": "stderr",
     "output_type": "stream",
     "text": [
      "100%|██████████| 64/64 [00:16<00:00,  3.77it/s]\n",
      "100%|██████████| 64/64 [00:08<00:00,  7.67it/s]\n",
      "100%|██████████| 64/64 [00:02<00:00, 24.06it/s]\n"
     ]
    },
    {
     "name": "stdout",
     "output_type": "stream",
     "text": [
      "elapsed_time:34.7472448348999[sec]\n",
      "DJI_20231228115527_0121 33.444805555555554 177.4421111111111 [ 0.037239   -0.83358575  0.55113343]\n"
     ]
    },
    {
     "name": "stderr",
     "output_type": "stream",
     "text": [
      "100%|██████████| 64/64 [00:17<00:00,  3.75it/s]\n",
      "100%|██████████| 64/64 [00:08<00:00,  7.89it/s]\n",
      "100%|██████████| 64/64 [00:02<00:00, 24.14it/s]\n"
     ]
    },
    {
     "name": "stdout",
     "output_type": "stream",
     "text": [
      "elapsed_time:34.382901430130005[sec]\n",
      "DJI_20231228115530_0122 33.445277777777775 177.45580555555554 [ 0.03703956 -0.83359009  0.5511403 ]\n"
     ]
    },
    {
     "name": "stderr",
     "output_type": "stream",
     "text": [
      "100%|██████████| 64/64 [00:17<00:00,  3.71it/s]\n",
      "100%|██████████| 64/64 [00:08<00:00,  7.98it/s]\n",
      "100%|██████████| 64/64 [00:02<00:00, 24.36it/s]\n"
     ]
    },
    {
     "name": "stdout",
     "output_type": "stream",
     "text": [
      "elapsed_time:34.64395999908447[sec]\n",
      "DJI_20231228115532_0123 33.44558333333333 177.46494444444443 [ 0.03690647 -0.83359305  0.55114475]\n"
     ]
    },
    {
     "name": "stderr",
     "output_type": "stream",
     "text": [
      "100%|██████████| 64/64 [00:16<00:00,  3.81it/s]\n",
      "100%|██████████| 64/64 [00:07<00:00,  8.21it/s]\n",
      "100%|██████████| 64/64 [00:02<00:00, 22.44it/s]\n"
     ]
    },
    {
     "name": "stdout",
     "output_type": "stream",
     "text": [
      "elapsed_time:34.38434147834778[sec]\n",
      "DJI_20231228115535_0124 33.44602777777777 177.4786388888889 [ 0.03670704 -0.83359758  0.55115123]\n"
     ]
    },
    {
     "name": "stderr",
     "output_type": "stream",
     "text": [
      "100%|██████████| 64/64 [00:17<00:00,  3.76it/s]\n",
      "100%|██████████| 64/64 [00:08<00:00,  7.59it/s]\n",
      "100%|██████████| 64/64 [00:02<00:00, 24.59it/s]\n"
     ]
    },
    {
     "name": "stdout",
     "output_type": "stream",
     "text": [
      "elapsed_time:34.7152054309845[sec]\n",
      "DJI_20231228115538_0125 33.44649999999999 177.4923611111111 [ 0.03650719 -0.83360181  0.5511581 ]\n"
     ]
    },
    {
     "name": "stderr",
     "output_type": "stream",
     "text": [
      "100%|██████████| 64/64 [00:17<00:00,  3.70it/s]\n",
      "100%|██████████| 64/64 [00:09<00:00,  6.78it/s]\n",
      "100%|██████████| 64/64 [00:02<00:00, 22.92it/s]\n"
     ]
    },
    {
     "name": "stdout",
     "output_type": "stream",
     "text": [
      "elapsed_time:36.46572828292847[sec]\n",
      "DJI_20231228115540_0126 33.44680555555555 177.50147222222222 [ 0.03637451 -0.83360466  0.55116255]\n"
     ]
    },
    {
     "name": "stderr",
     "output_type": "stream",
     "text": [
      "100%|██████████| 64/64 [00:17<00:00,  3.76it/s]\n",
      "100%|██████████| 64/64 [00:08<00:00,  7.84it/s]\n",
      "100%|██████████| 64/64 [00:02<00:00, 23.70it/s]\n"
     ]
    },
    {
     "name": "stdout",
     "output_type": "stream",
     "text": [
      "elapsed_time:34.531434297561646[sec]\n",
      "DJI_20231228115543_0127 33.44725 177.51519444444443 [ 0.03617467 -0.83360908  0.55116903]\n"
     ]
    },
    {
     "name": "stderr",
     "output_type": "stream",
     "text": [
      "100%|██████████| 64/64 [00:17<00:00,  3.69it/s]\n",
      "100%|██████████| 64/64 [00:08<00:00,  7.56it/s]\n",
      "100%|██████████| 64/64 [00:02<00:00, 28.29it/s]\n"
     ]
    },
    {
     "name": "stdout",
     "output_type": "stream",
     "text": [
      "elapsed_time:34.5616991519928[sec]\n",
      "DJI_20231228115546_0128 33.447694444444444 177.5288888888889 [ 0.03597524 -0.83361343  0.5511755 ]\n"
     ]
    },
    {
     "name": "stderr",
     "output_type": "stream",
     "text": [
      "100%|██████████| 64/64 [00:17<00:00,  3.61it/s]\n",
      "100%|██████████| 64/64 [00:05<00:00, 10.70it/s]\n",
      "100%|██████████| 64/64 [00:02<00:00, 29.92it/s]\n"
     ]
    },
    {
     "name": "stdout",
     "output_type": "stream",
     "text": [
      "elapsed_time:32.13185262680054[sec]\n",
      "DJI_20231228115549_0129 33.448138888888884 177.5426111111111 [ 0.03577541 -0.83361775  0.55118197]\n"
     ]
    },
    {
     "name": "stderr",
     "output_type": "stream",
     "text": [
      "100%|██████████| 64/64 [00:17<00:00,  3.74it/s]\n",
      "100%|██████████| 64/64 [00:03<00:00, 17.26it/s]\n",
      "100%|██████████| 64/64 [00:02<00:00, 26.57it/s]\n"
     ]
    },
    {
     "name": "stdout",
     "output_type": "stream",
     "text": [
      "elapsed_time:28.82837700843811[sec]\n",
      "DJI_20231228115551_0130 33.44844444444444 177.55175 [ 0.03564232 -0.83362051  0.55118642]\n"
     ]
    },
    {
     "name": "stderr",
     "output_type": "stream",
     "text": [
      "100%|██████████| 64/64 [00:17<00:00,  3.64it/s]\n",
      "100%|██████████| 64/64 [00:03<00:00, 16.40it/s]\n",
      "100%|██████████| 64/64 [00:02<00:00, 30.62it/s]\n"
     ]
    },
    {
     "name": "stdout",
     "output_type": "stream",
     "text": [
      "elapsed_time:28.897976636886597[sec]\n",
      "DJI_20231228115552_0131 33.44858333333333 177.55633333333336 [ 0.03557558 -0.83362202  0.55118844]\n"
     ]
    },
    {
     "name": "stderr",
     "output_type": "stream",
     "text": [
      "100%|██████████| 64/64 [00:17<00:00,  3.67it/s]\n",
      "100%|██████████| 64/64 [00:03<00:00, 16.60it/s]\n",
      "100%|██████████| 64/64 [00:02<00:00, 31.94it/s]\n"
     ]
    },
    {
     "name": "stdout",
     "output_type": "stream",
     "text": [
      "elapsed_time:28.701443195343018[sec]\n",
      "DJI_20231228115555_0132 33.44902777777777 177.57011111111112 [ 0.03537494 -0.83362628  0.55119491]\n"
     ]
    },
    {
     "name": "stderr",
     "output_type": "stream",
     "text": [
      "100%|██████████| 64/64 [00:17<00:00,  3.71it/s]\n",
      "100%|██████████| 64/64 [00:04<00:00, 13.59it/s]\n",
      "100%|██████████| 64/64 [00:02<00:00, 28.45it/s]\n"
     ]
    },
    {
     "name": "stdout",
     "output_type": "stream",
     "text": [
      "elapsed_time:30.178717136383057[sec]\n",
      "DJI_20231228115557_0133 33.449305555555554 177.57927777777778 [ 0.03524145 -0.83362926  0.55119896]\n"
     ]
    },
    {
     "name": "stderr",
     "output_type": "stream",
     "text": [
      "100%|██████████| 64/64 [00:18<00:00,  3.55it/s]\n",
      "100%|██████████| 64/64 [00:07<00:00,  8.60it/s]\n",
      "100%|██████████| 64/64 [00:02<00:00, 27.76it/s]\n"
     ]
    },
    {
     "name": "stdout",
     "output_type": "stream",
     "text": [
      "elapsed_time:34.11154627799988[sec]\n",
      "DJI_20231228115558_0134 33.44944444444444 177.5838888888889 [ 0.03517431 -0.83363076  0.55120098]\n"
     ]
    },
    {
     "name": "stderr",
     "output_type": "stream",
     "text": [
      "100%|██████████| 64/64 [00:17<00:00,  3.58it/s]\n",
      "100%|██████████| 64/64 [00:08<00:00,  7.96it/s]\n",
      "100%|██████████| 64/64 [00:02<00:00, 29.42it/s]\n"
     ]
    },
    {
     "name": "stdout",
     "output_type": "stream",
     "text": [
      "elapsed_time:34.50965881347656[sec]\n",
      "DJI_20231228115600_0135 33.449749999999995 177.59308333333334 [ 0.03504041 -0.83363346  0.55120543]\n"
     ]
    },
    {
     "name": "stderr",
     "output_type": "stream",
     "text": [
      "100%|██████████| 64/64 [00:17<00:00,  3.58it/s]\n",
      "100%|██████████| 64/64 [00:07<00:00,  9.03it/s]\n",
      "100%|██████████| 64/64 [00:02<00:00, 29.05it/s]\n"
     ]
    },
    {
     "name": "stdout",
     "output_type": "stream",
     "text": [
      "elapsed_time:33.669135093688965[sec]\n",
      "DJI_20231228115603_0136 33.45019444444445 177.6068611111111 [ 0.03483976 -0.83363759  0.5512119 ]\n"
     ]
    },
    {
     "name": "stderr",
     "output_type": "stream",
     "text": [
      "100%|██████████| 64/64 [00:17<00:00,  3.65it/s]\n",
      "100%|██████████| 64/64 [00:08<00:00,  7.39it/s]\n",
      "100%|██████████| 64/64 [00:02<00:00, 24.15it/s]\n"
     ]
    },
    {
     "name": "stdout",
     "output_type": "stream",
     "text": [
      "elapsed_time:35.68468475341797[sec]\n",
      "DJI_20231228115606_0137 33.45063888888889 177.6206388888889 [ 0.03463912 -0.83364167  0.55121838]\n"
     ]
    },
    {
     "name": "stderr",
     "output_type": "stream",
     "text": [
      "100%|██████████| 64/64 [00:17<00:00,  3.64it/s]\n",
      "100%|██████████| 64/64 [00:08<00:00,  7.56it/s]\n",
      "100%|██████████| 64/64 [00:02<00:00, 24.22it/s]\n"
     ]
    },
    {
     "name": "stdout",
     "output_type": "stream",
     "text": [
      "elapsed_time:35.72901701927185[sec]\n",
      "DJI_20231228115609_0138 33.45108333333334 177.63438888888888 [ 0.03443889 -0.83364569  0.55122485]\n"
     ]
    },
    {
     "name": "stderr",
     "output_type": "stream",
     "text": [
      "100%|██████████| 64/64 [00:17<00:00,  3.63it/s]\n",
      "100%|██████████| 64/64 [00:07<00:00,  8.38it/s]\n",
      "100%|██████████| 64/64 [00:02<00:00, 24.85it/s]\n"
     ]
    },
    {
     "name": "stdout",
     "output_type": "stream",
     "text": [
      "elapsed_time:35.037521839141846[sec]\n",
      "DJI_20231228115611_0139 33.45136111111111 177.6436111111111 [ 0.03430459 -0.83364855  0.55122889]\n"
     ]
    },
    {
     "name": "stderr",
     "output_type": "stream",
     "text": [
      "100%|██████████| 64/64 [00:17<00:00,  3.59it/s]\n",
      "100%|██████████| 64/64 [00:07<00:00,  8.49it/s]\n",
      "100%|██████████| 64/64 [00:02<00:00, 23.28it/s]\n"
     ]
    },
    {
     "name": "stdout",
     "output_type": "stream",
     "text": [
      "elapsed_time:35.38678002357483[sec]\n",
      "DJI_20231228115614_0140 33.45180555555556 177.65736111111113 [ 0.03410436 -0.83365248  0.55123537]\n"
     ]
    },
    {
     "name": "stderr",
     "output_type": "stream",
     "text": [
      "100%|██████████| 64/64 [00:17<00:00,  3.57it/s]\n",
      "100%|██████████| 64/64 [00:07<00:00,  8.46it/s]\n",
      "100%|██████████| 64/64 [00:02<00:00, 25.47it/s]\n"
     ]
    },
    {
     "name": "stdout",
     "output_type": "stream",
     "text": [
      "elapsed_time:35.05370759963989[sec]\n",
      "DJI_20231228115617_0141 33.452222222222225 177.6711388888889 [ 0.03390373 -0.83365666  0.55124143]\n"
     ]
    },
    {
     "name": "stderr",
     "output_type": "stream",
     "text": [
      "100%|██████████| 64/64 [00:17<00:00,  3.66it/s]\n",
      "100%|██████████| 64/64 [00:07<00:00,  8.65it/s]\n",
      "100%|██████████| 64/64 [00:02<00:00, 24.54it/s]\n"
     ]
    },
    {
     "name": "stdout",
     "output_type": "stream",
     "text": [
      "elapsed_time:34.20835280418396[sec]\n",
      "DJI_20231228115620_0142 33.45263888888889 177.68491666666668 [ 0.0337031  -0.83366078  0.5512475 ]\n"
     ]
    },
    {
     "name": "stderr",
     "output_type": "stream",
     "text": [
      "100%|██████████| 64/64 [00:17<00:00,  3.68it/s]\n",
      "100%|██████████| 64/64 [00:07<00:00,  8.13it/s]\n",
      "100%|██████████| 64/64 [00:02<00:00, 25.55it/s]\n"
     ]
    },
    {
     "name": "stdout",
     "output_type": "stream",
     "text": [
      "elapsed_time:34.249632358551025[sec]\n",
      "DJI_20231228115622_0143 33.45294444444445 177.6941111111111 [ 0.0335692  -0.83366324  0.55125195]\n"
     ]
    },
    {
     "name": "stderr",
     "output_type": "stream",
     "text": [
      "100%|██████████| 64/64 [00:17<00:00,  3.68it/s]\n",
      "100%|██████████| 64/64 [00:07<00:00,  8.03it/s]\n",
      "100%|██████████| 64/64 [00:02<00:00, 23.65it/s]\n"
     ]
    },
    {
     "name": "stdout",
     "output_type": "stream",
     "text": [
      "elapsed_time:34.63452959060669[sec]\n",
      "DJI_20231228115625_0144 33.453361111111114 177.70788888888887 [ 0.03336857 -0.83366728  0.55125802]\n"
     ]
    },
    {
     "name": "stderr",
     "output_type": "stream",
     "text": [
      "100%|██████████| 64/64 [00:17<00:00,  3.73it/s]\n",
      "100%|██████████| 64/64 [00:07<00:00,  8.25it/s]\n",
      "100%|██████████| 64/64 [00:02<00:00, 26.76it/s]\n"
     ]
    },
    {
     "name": "stdout",
     "output_type": "stream",
     "text": [
      "elapsed_time:33.81834650039673[sec]\n",
      "DJI_20231228115628_0145 33.45377777777778 177.72166666666666 [ 0.03316794 -0.83367128  0.55126409]\n"
     ]
    },
    {
     "name": "stderr",
     "output_type": "stream",
     "text": [
      "100%|██████████| 64/64 [00:17<00:00,  3.69it/s]\n",
      "100%|██████████| 64/64 [00:07<00:00,  8.51it/s]\n",
      "100%|██████████| 64/64 [00:02<00:00, 25.95it/s]\n"
     ]
    },
    {
     "name": "stdout",
     "output_type": "stream",
     "text": [
      "elapsed_time:33.69072890281677[sec]\n",
      "DJI_20231228115631_0146 33.45419444444445 177.73544444444443 [ 0.03296731 -0.83367522  0.55127015]\n"
     ]
    },
    {
     "name": "stderr",
     "output_type": "stream",
     "text": [
      "100%|██████████| 64/64 [00:17<00:00,  3.69it/s]\n",
      "100%|██████████| 64/64 [00:07<00:00,  8.70it/s]\n",
      "100%|██████████| 64/64 [00:02<00:00, 27.91it/s]\n"
     ]
    },
    {
     "name": "stdout",
     "output_type": "stream",
     "text": [
      "elapsed_time:33.37090086936951[sec]\n",
      "DJI_20231228115633_0147 33.45447222222222 177.7446388888889 [ 0.03283342 -0.83367783  0.5512742 ]\n"
     ]
    },
    {
     "name": "stderr",
     "output_type": "stream",
     "text": [
      "100%|██████████| 64/64 [00:17<00:00,  3.66it/s]\n",
      "100%|██████████| 64/64 [00:08<00:00,  7.69it/s]\n",
      "100%|██████████| 64/64 [00:02<00:00, 26.30it/s]\n"
     ]
    },
    {
     "name": "stdout",
     "output_type": "stream",
     "text": [
      "elapsed_time:34.77412486076355[sec]\n",
      "DJI_20231228115636_0148 33.45488888888889 177.75841666666668 [ 0.03263279 -0.8336817   0.55128026]\n"
     ]
    },
    {
     "name": "stderr",
     "output_type": "stream",
     "text": [
      "100%|██████████| 64/64 [00:17<00:00,  3.67it/s]\n",
      "100%|██████████| 64/64 [00:07<00:00,  8.60it/s]\n",
      "100%|██████████| 64/64 [00:02<00:00, 30.71it/s]\n"
     ]
    },
    {
     "name": "stdout",
     "output_type": "stream",
     "text": [
      "elapsed_time:33.42312669754028[sec]\n"
     ]
    }
   ],
   "source": [
    "###############  条件  ###############\n",
    "# 観測仰角が90から70度までを計算する #\n",
    "######################################\n",
    "\n",
    "# SensorParameter\n",
    "Sensor = SensorParameter(CameraName)\n",
    "\n",
    "sPixelSize   = Sensor.pixel_size\n",
    "sFocalLength = Sensor.focal_length\n",
    "sCx , sCy    = Sensor.cX, Sensor.cY\n",
    "siFov        = Sensor.iFov\n",
    "si_rX, si_rY = Sensor.i_rX,Sensor.i_rY\n",
    "VoxelK       = Sensor.VoxelK\n",
    "xstart, ystart, xstop, ystop = Sensor.xstart, Sensor.ystart, Sensor.xstop, Sensor.ystop\n",
    "\n",
    "Sensor.printInfo()\n",
    "print(CameraName)\n",
    "#np_shadow = ShadowTiff(IFile6)\n",
    "\n",
    "for i in PhotoIDs:\n",
    "    start  = time.time() # 計算時間を計る\n",
    "    print(i,end=\" \")\n",
    "    # ImageParameter\n",
    "    Image                = CameraParameterEach(i)\n",
    "    iH, iW               = int(Image.h), int(Image.w)\n",
    "    iR, iG, iB           = Image.img_R,Image.img_G,Image.img_B\n",
    "    cx, cy, cz           = Image.x, Image.y, Image.z\n",
    "    ci, cj, ck           = Image.Ci, Image.Cj, Image.Ck\n",
    "    carr6                = Image.arr6\n",
    "    vectorSun            = Image.vectorSun\n",
    "    OFile1,OFile2,OFile3 = Image.OFile1, Image.OFile2, Image.OFile3\n",
    "    OFile4,OFile5        = Image.OFile4, Image.OFile5\n",
    "\n",
    "    print(Image.sunalt,Image.sunazl,Image.vectorSun)\n",
    "    #Image.printInfo()\n",
    "\n",
    "    if xstart > ci or ci > xstop or ystart > cj or cj > ystop: # 範囲外で飛行した場合は対象外\n",
    "        df = pd.read_csv(IFile5, header=None)                  # CSVファイルを読み込み\n",
    "        df = df[df[0] != i]                                    # i を含む行を削除\n",
    "        df.to_csv(IFile5, index=False, header=False)           # CSVファイルに保存\n",
    "        print(\": outside the area , remove from list\")\n",
    "        continue\n",
    "\n",
    "    # オルソフォト作成\n",
    "    OP1 = Confu(P_np) # P_np（投影面）\n",
    "\n",
    "    # オクルージョン処理\n",
    "    OP2 = DataFormatting1(OP1)\n",
    "    OP3 = Confu_2(OP2)\n",
    "    \n",
    "    # 位相角\n",
    "    OP4 = DataFormatting2(OP3)\n",
    "    OP5 = Confu_3(OP4)\n",
    "\n",
    "    # SaveImage # Output only the parts where all values are correct\n",
    "    GeoTiffSave3(OP3,OP5,OFile1)             # Oltho Photo\n",
    "    GeoTiffSave1(OP5,OFile2)                 # Phase Angle\n",
    "    GeoTiffSave3A(OP5,OP3,OFile3,OFile4)     # Observation Angle HSV\n",
    "    GeoTiffSave3N(OP5,OFile5)                # Observation Angle Blue Map\n",
    "\n",
    "    del OP1\n",
    "    del OP2\n",
    "    del OP3\n",
    "    del OP4\n",
    "    del OP5\n",
    "\n",
    "    print (\"elapsed_time:{0}\".format(time.time()-start) + \"[sec]\") # 計算時間を表示"
   ]
  },
  {
   "cell_type": "markdown",
   "metadata": {},
   "source": []
  },
  {
   "cell_type": "markdown",
   "metadata": {},
   "source": []
  },
  {
   "cell_type": "markdown",
   "metadata": {},
   "source": []
  },
  {
   "cell_type": "raw",
   "metadata": {},
   "source": [
    "# 位相角度の計算\n",
    "import numpy as np\n",
    "\n",
    "# 原点の座標\n",
    "origin        = np.array([20244.2, 71715.6, 125.752])\n",
    "\n",
    "# ターゲットの3次元座標ベクトル\n",
    "target_vector = np.array([20236.46,71716.44,235.00])\n",
    "\n",
    "# ターゲットの高度角と方位角をラジアンで指定\n",
    "elevation_angle = np.radians(65)     # 高度角 65度\n",
    "azimuth_angle   = np.radians(220)    # 方位角 220度\n",
    "\n",
    "# ターゲットの座標ベクトルを原点に対して変換\n",
    "relative_vector = target_vector - origin\n",
    "\n",
    "# 相対位置ベクトルを高度角と方位角から3次元ベクトルに変換\n",
    "x = np.cos(elevation_angle) * np.cos(azimuth_angle)\n",
    "y = np.cos(elevation_angle) * np.sin(azimuth_angle)\n",
    "z = np.sin(elevation_angle)\n",
    "vector2 = np.array([x, y, z])\n",
    "\n",
    "# 2つのベクトルのなす角を計算\n",
    "dot_product = np.dot(relative_vector, vector2)\n",
    "norm1 = np.linalg.norm(relative_vector)\n",
    "norm2 = np.linalg.norm(vector2)\n",
    "cosine_similarity = dot_product / (norm1 * norm2)\n",
    "angle_in_radians = np.arccos(cosine_similarity)\n",
    "angle_in_degrees = np.degrees(angle_in_radians)\n",
    "\n",
    "print(\"2つのベクトルのなす角（度）:\",angle_in_degrees)"
   ]
  },
  {
   "cell_type": "raw",
   "metadata": {},
   "source": [
    "# 座標系の設定\n",
    "p1 = pyproj.Proj(\"EPSG:2446\")  # 変換元の座標：日本測地系4系\n",
    "p2 = pyproj.Proj(\"EPSG:4326\")  # 変換後の座標系：緯度経度\n",
    "\n",
    "# 撮影時刻の取得\n",
    "Date = self.PhotoTakenTime(self.IFile2)\n",
    "self.Date = Date # 無くてもいい\n",
    "\n",
    "# [[注意]]：カメラ位置における太陽をシミュレーションする（self.xとyはcxとcy / 投影面の方が精度がいいかも）\n",
    "Lon, Lat             = pyproj.transform(p1, p2, self.x, self.y) # 日本測地系4系→緯度経度\n",
    "Lon_str, Lat_str     = str(Lon), str(Lat)"
   ]
  },
  {
   "cell_type": "raw",
   "metadata": {},
   "source": []
  },
  {
   "cell_type": "raw",
   "metadata": {},
   "source": [
    "# SensorParameter\n",
    "Sensor = SensorParameter(CameraName)\n",
    "\n",
    "sPixelSize   = Sensor.pixel_size\n",
    "sFocalLength = Sensor.focal_length\n",
    "sCx , sCy    = Sensor.cX, Sensor.cY\n",
    "siFov        = Sensor.iFov\n",
    "si_rX, si_rY = Sensor.i_rX,Sensor.i_rY\n",
    "VoxelK       = Sensor.VoxelK\n",
    "xstart, ystart, xstop, ystop = Sensor.xstart, Sensor.ystart, Sensor.xstop, Sensor.ystop\n",
    "\n",
    "Sensor.printInfo()\n",
    "print(CameraName)\n",
    "np_shadow = ShadowTiff(IFile6)\n",
    "\n",
    "for i in PhotoIDs[0]:\n",
    "    start  = time.time() # 計算時間を計る\n",
    "    print(i,end=\" \")\n",
    "    # ImageParameter\n",
    "    Image                = CameraParameterEach(i)\n",
    "    iH, iW               = int(Image.h), int(Image.w)\n",
    "    iR, iG, iB           = Image.img_R,Image.img_G,Image.img_B\n",
    "    cx, cy, cz           = Image.x, Image.y, Image.z\n",
    "    ci, cj, ck           = Image.Ci, Image.Cj, Image.Ck\n",
    "    carr6                = Image.arr6\n",
    "    vectorSun            = Image.vectorSun\n",
    "    OFile1, OFile2       = Image.OFile1, Image.OFile2\n",
    "\n",
    "    print(Image.sunalt,Image.sunazl,Image.vectorSun)\n",
    "    #Image.printInfo()\n",
    "\n",
    "    if xstart > ci or ci > xstop or ystart > cj or cj > ystop: # 範囲外で飛行した場合は対象外\n",
    "        df = pd.read_csv(IFile5, header=None)                  # CSVファイルを読み込み\n",
    "        df = df[df[0] != i]                                    # i を含む行を削除\n",
    "        df.to_csv(IFile5, index=False, header=False)           # CSVファイルに保存\n",
    "        print(\": outside the area , remove from list\")\n",
    "        continue\n",
    "\n",
    "    # オルソフォト作成\n",
    "    OP1 = Confu(P_np) # P_np（投影面）\n",
    "\n",
    "    # オクルージョン処理\n",
    "    OP2 = DataFormatting1(OP1)\n",
    "    OP3 = Confu_2(OP2)\n",
    "    \n",
    "    # 位相角\n",
    "    OP4 = DataFormatting2(OP3)\n",
    "    OP5 = Confu_3(OP4)\n",
    "\n",
    "    # SaveImage\n",
    "    GeoTiffSave3(OP3,OFile1) # OlthoPhoto\n",
    "    GeoTiffSave1(OP5,OFile2) # OlthoPhoto\n",
    "\n",
    "    del OP1\n",
    "    del OP2\n",
    "    del OP3\n",
    "    del OP4\n",
    "    del OP5\n",
    "\n",
    "    print (\"elapsed_time:{0}\".format(time.time()-start) + \"[sec]\") # 計算時間を表示"
   ]
  },
  {
   "cell_type": "raw",
   "metadata": {},
   "source": [
    "\n",
    "CameraParameterEach(PhotoIDs[0])\n",
    "iH, iW               = int(Image.h), int(Image.w)\n",
    "iR, iG, iB           = Image.img_R,Image.img_G,Image.img_B\n",
    "cx, cy, cz           = Image.x, Image.y, Image.z\n",
    "ci, cj, ck           = Image.Ci, Image.Cj, Image.Ck\n",
    "carr6                = Image.arr6\n",
    "vectorSun            = Image.vectorSun\n",
    "OFile1, OFile2       = Image.OFile1, Image.OFile2\n",
    "print(cx, cy, cz )"
   ]
  },
  {
   "cell_type": "raw",
   "metadata": {},
   "source": [
    "xmin,xmax,ymin,ymax,zmin,zmax = 18187, 18267, 65806, 65886, 55, 64\n",
    "\n",
    "transformer           = Transformer.from_crs(\"EPSG:2446\", \"EPSG:4326\")\n",
    "Lat,lon               = transformer.transform(cx, cy)\n",
    "\n",
    "\n",
    "print(lon, Lat)"
   ]
  },
  {
   "cell_type": "markdown",
   "metadata": {},
   "source": []
  },
  {
   "cell_type": "code",
   "execution_count": 29,
   "metadata": {},
   "outputs": [
    {
     "name": "stdout",
     "output_type": "stream",
     "text": [
      "0.3621429841700741 0.45267873021259264 0.8148217143826667\n"
     ]
    }
   ],
   "source": [
    "# 単位ベクトルの計算\n",
    "x,y,z    = 4,5,9\n",
    "xyz      =  np.array([x,y,z])\n",
    "xyzN     =  np.linalg.norm(xyz)\n",
    "u        =  xyz / xyzN\n",
    "Nx,Ny,Nz = u\n",
    "\n",
    "print(Nx,Ny,Nz)"
   ]
  },
  {
   "cell_type": "code",
   "execution_count": 30,
   "metadata": {},
   "outputs": [
    {
     "name": "stdout",
     "output_type": "stream",
     "text": [
      "0.3621429841700741 0.45267873021259264 0.8148217143826667\n"
     ]
    }
   ],
   "source": [
    "x,y,z    = 4,5,9\n",
    "vectorCam = np.array([x,y,z])\n",
    "Nxyz     =  np.linalg.norm(vectorCam)\n",
    "Normal   =  vectorCam / Nxyz\n",
    "Nx,Ny,Nz = Normal\n",
    "\n",
    "print(Nx,Ny,Nz)"
   ]
  }
 ],
 "metadata": {
  "kernelspec": {
   "display_name": "Python 3",
   "language": "python",
   "name": "python3"
  },
  "language_info": {
   "codemirror_mode": {
    "name": "ipython",
    "version": 3
   },
   "file_extension": ".py",
   "mimetype": "text/x-python",
   "name": "python",
   "nbconvert_exporter": "python",
   "pygments_lexer": "ipython3",
   "version": "3.8.18"
  }
 },
 "nbformat": 4,
 "nbformat_minor": 4
}
